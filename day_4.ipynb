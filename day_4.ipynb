{
  "nbformat": 4,
  "nbformat_minor": 0,
  "metadata": {
    "colab": {
      "provenance": [],
      "include_colab_link": true
    },
    "kernelspec": {
      "name": "python3",
      "display_name": "Python 3"
    },
    "language_info": {
      "name": "python"
    }
  },
  "cells": [
    {
      "cell_type": "markdown",
      "metadata": {
        "id": "view-in-github",
        "colab_type": "text"
      },
      "source": [
        "<a href=\"https://colab.research.google.com/github/ishaangarg03/Daily_Diary/blob/main/day_4.ipynb\" target=\"_parent\"><img src=\"https://colab.research.google.com/assets/colab-badge.svg\" alt=\"Open In Colab\"/></a>"
      ]
    },
    {
      "cell_type": "code",
      "execution_count": null,
      "metadata": {
        "colab": {
          "base_uri": "https://localhost:8080/"
        },
        "id": "WvKQwcrQT_WC",
        "outputId": "e0e6e5a6-076a-4a1f-c750-d70ab5d6cb5b"
      },
      "outputs": [
        {
          "output_type": "stream",
          "name": "stdout",
          "text": [
            "!niod uoy woH ,yeH\n"
          ]
        }
      ],
      "source": [
        "#10/6\n",
        "#STRING\n",
        "# string Manipulation\n",
        "str1 = \"Hey, How you doin!\"\n",
        "reversed = str1[::-1]\n",
        "print(reversed)"
      ]
    },
    {
      "cell_type": "code",
      "source": [
        "vowels = \"aeiou\"\n",
        "count = 0\n",
        "for char in str1:\n",
        "    if char in vowels:\n",
        "        count += 1\n",
        "print(count)"
      ],
      "metadata": {
        "colab": {
          "base_uri": "https://localhost:8080/"
        },
        "id": "gxr7EdfsYB03",
        "outputId": "d9a091aa-2530-43fd-dfe6-ed3f99186745"
      },
      "execution_count": null,
      "outputs": [
        {
          "output_type": "stream",
          "name": "stdout",
          "text": [
            "6\n"
          ]
        }
      ]
    },
    {
      "cell_type": "code",
      "source": [
        "if str1 == reversed:\n",
        "    print(\"Palindrome\")\n",
        "else:\n",
        "    print(\"Not Palindrome\")"
      ],
      "metadata": {
        "colab": {
          "base_uri": "https://localhost:8080/"
        },
        "id": "EU1o6XK_Y9iu",
        "outputId": "e062d766-ef4b-4be6-c215-72b449e2778e"
      },
      "execution_count": null,
      "outputs": [
        {
          "output_type": "stream",
          "name": "stdout",
          "text": [
            "Not Palindrome\n"
          ]
        }
      ]
    },
    {
      "cell_type": "code",
      "source": [
        "camel = str1.title()\n",
        "print(camel)"
      ],
      "metadata": {
        "colab": {
          "base_uri": "https://localhost:8080/"
        },
        "id": "eQv_5cxFZT7u",
        "outputId": "af24012d-17ca-44c7-c8ba-304dfe4bca55"
      },
      "execution_count": null,
      "outputs": [
        {
          "output_type": "stream",
          "name": "stdout",
          "text": [
            "Hey, How You Doin!\n"
          ]
        }
      ]
    },
    {
      "cell_type": "code",
      "source": [
        "# String Formatting\n",
        "name = \"joey\"\n",
        "str2 = f\"{name} doesn't share food\"\n",
        "print(str2)"
      ],
      "metadata": {
        "colab": {
          "base_uri": "https://localhost:8080/"
        },
        "id": "yRVvyEUzZram",
        "outputId": "6c322a66-526d-4bea-8fbe-c3f06640c6c3"
      },
      "execution_count": null,
      "outputs": [
        {
          "output_type": "stream",
          "name": "stdout",
          "text": [
            "joey doesn't share food\n"
          ]
        }
      ]
    },
    {
      "cell_type": "code",
      "source": [
        "lis = ['joey', 'chandler','ross']\n",
        "los=[]\n",
        "for name in lis:\n",
        "    left = name.ljust(10)\n",
        "    los.append( left)\n",
        "print(los)"
      ],
      "metadata": {
        "colab": {
          "base_uri": "https://localhost:8080/"
        },
        "id": "ZMa4UfJ3aJ_7",
        "outputId": "d9e33b77-8b65-45af-dab5-4d2bb6327ba3"
      },
      "execution_count": null,
      "outputs": [
        {
          "output_type": "stream",
          "name": "stdout",
          "text": [
            "['joey      ', 'chandler  ', 'ross      ']\n"
          ]
        }
      ]
    },
    {
      "cell_type": "code",
      "source": [
        "names = [\"John\", \"Jane\", \"Alice\", \"Bob\"]\n",
        "formatted_names = \"-\".join(names)\n",
        "\n",
        "print(formatted_names)"
      ],
      "metadata": {
        "colab": {
          "base_uri": "https://localhost:8080/"
        },
        "id": "7lqRnip5iAov",
        "outputId": "99d0e624-dc46-41b0-86e4-db5721e2fdcc"
      },
      "execution_count": null,
      "outputs": [
        {
          "output_type": "stream",
          "name": "stdout",
          "text": [
            "John-Jane-Alice-Bob\n"
          ]
        }
      ]
    },
    {
      "cell_type": "code",
      "source": [
        "# string searching and counting\n",
        "substr = \"How\"\n",
        "if substr in str1:\n",
        "    print(\"Found\")\n",
        "    find=str1.find(substr)\n",
        "    print(find)\n",
        "else:\n",
        "    print(\"Not Found\")"
      ],
      "metadata": {
        "colab": {
          "base_uri": "https://localhost:8080/"
        },
        "id": "tdlU2xlaimiG",
        "outputId": "056688d8-7eb5-4fe2-e510-f4c93b935053"
      },
      "execution_count": null,
      "outputs": [
        {
          "output_type": "stream",
          "name": "stdout",
          "text": [
            "Found\n",
            "5\n"
          ]
        }
      ]
    },
    {
      "cell_type": "code",
      "source": [
        "count = str1.count(\"Hey\")\n",
        "print(count)"
      ],
      "metadata": {
        "colab": {
          "base_uri": "https://localhost:8080/"
        },
        "id": "wA-I9hDMkcCJ",
        "outputId": "3dc0448a-fb5c-4737-fc34-03fa2702cfcd"
      },
      "execution_count": null,
      "outputs": [
        {
          "output_type": "stream",
          "name": "stdout",
          "text": [
            "1\n"
          ]
        }
      ]
    },
    {
      "cell_type": "code",
      "source": [
        "str3 = \"g@v.com , c@v.com , sdfgh\"\n",
        "for email in str3.split(\",\"):\n",
        "  if \"@\" and '.' in email:\n",
        "    print(email)"
      ],
      "metadata": {
        "colab": {
          "base_uri": "https://localhost:8080/"
        },
        "id": "pn0Hn9Wrkib-",
        "outputId": "fd94003b-4845-4c9a-9e1c-3763091e3e17"
      },
      "execution_count": null,
      "outputs": [
        {
          "output_type": "stream",
          "name": "stdout",
          "text": [
            "g@v.com \n",
            " c@v.com \n"
          ]
        }
      ]
    },
    {
      "cell_type": "code",
      "source": [
        "# String Slicing and Concatenation:\n",
        "str1 = \"Hey, How you doin!\"\n",
        "split_list = str1.split(\" \")\n",
        "print(split_list[-3:])"
      ],
      "metadata": {
        "colab": {
          "base_uri": "https://localhost:8080/"
        },
        "id": "-e4sXNbKm3RI",
        "outputId": "fd5106b9-3439-4305-e21a-efd630b52338"
      },
      "execution_count": null,
      "outputs": [
        {
          "output_type": "stream",
          "name": "stdout",
          "text": [
            "['How', 'you', 'doin!']\n"
          ]
        }
      ]
    },
    {
      "cell_type": "code",
      "source": [
        "print(str1 + \" \" + str2)"
      ],
      "metadata": {
        "colab": {
          "base_uri": "https://localhost:8080/"
        },
        "id": "e9EourqnocSP",
        "outputId": "004eb77e-8327-4fb7-acad-66de2ecb68ac"
      },
      "execution_count": null,
      "outputs": [
        {
          "output_type": "stream",
          "name": "stdout",
          "text": [
            "Hey, How you doin! joey doesn't share food\n"
          ]
        }
      ]
    },
    {
      "cell_type": "code",
      "source": [
        "print(str1.strip())"
      ],
      "metadata": {
        "colab": {
          "base_uri": "https://localhost:8080/"
        },
        "id": "UY2VtZzvotGC",
        "outputId": "5f3a739a-4fa5-4a5f-f029-75863b6a2c75"
      },
      "execution_count": null,
      "outputs": [
        {
          "output_type": "stream",
          "name": "stdout",
          "text": [
            "Hey, How you doin!\n"
          ]
        }
      ]
    },
    {
      "cell_type": "code",
      "source": [
        "# question 1\n",
        "upper = str1.upper()\n",
        "print(upper)"
      ],
      "metadata": {
        "colab": {
          "base_uri": "https://localhost:8080/"
        },
        "id": "lxPtm9pMpncl",
        "outputId": "273d43b8-50b1-4300-f924-710df29e2d0c"
      },
      "execution_count": null,
      "outputs": [
        {
          "output_type": "stream",
          "name": "stdout",
          "text": [
            "HEY, HOW YOU DOIN!\n"
          ]
        }
      ]
    },
    {
      "cell_type": "code",
      "source": [
        "# question 2\n",
        "str4 = \"    python    , python\"\n",
        "print(str4.strip())"
      ],
      "metadata": {
        "colab": {
          "base_uri": "https://localhost:8080/"
        },
        "id": "MstfGMEdpxPR",
        "outputId": "77c70aab-1fae-41c7-cc8d-8f7054551bb1"
      },
      "execution_count": null,
      "outputs": [
        {
          "output_type": "stream",
          "name": "stdout",
          "text": [
            "python    , python\n"
          ]
        }
      ]
    },
    {
      "cell_type": "code",
      "source": [
        "# question 3\n",
        "str5 = \"python is very popular language.\"\n",
        "substr = \"python\"\n",
        "if substr in str5:\n",
        "    print(\"Found\")\n",
        "    find=str5.find(substr)\n",
        "    print(find)\n",
        "else:\n",
        "    print(\"Not Found\")"
      ],
      "metadata": {
        "colab": {
          "base_uri": "https://localhost:8080/"
        },
        "id": "KRMIQTKfp5dv",
        "outputId": "d83de9e2-6f47-434a-ce7c-684f17e1c4d5"
      },
      "execution_count": null,
      "outputs": [
        {
          "output_type": "stream",
          "name": "stdout",
          "text": [
            "Found\n",
            "0\n"
          ]
        }
      ]
    },
    {
      "cell_type": "code",
      "source": [
        "# question 4\n",
        "str6 = \"joey,Chandler,Ross,Monica,Rachel,Phoebe\"\n",
        "split = str6.split(\",\")\n",
        "print(split)"
      ],
      "metadata": {
        "id": "cddLDsE5p7VB",
        "colab": {
          "base_uri": "https://localhost:8080/"
        },
        "outputId": "980e3a2f-7444-4dca-acb3-0f1be30b64df"
      },
      "execution_count": null,
      "outputs": [
        {
          "output_type": "stream",
          "name": "stdout",
          "text": [
            "['joey', 'Chandler', ' Ross', ' Monica', ' Rachel', ' Phoebe']\n"
          ]
        }
      ]
    },
    {
      "cell_type": "code",
      "source": [
        "# question 5\n",
        "str7 = \"java is popular programming language, java is high level language\"\n",
        "rep = str7.replace(\"java\",\"python\")\n",
        "print(rep)"
      ],
      "metadata": {
        "colab": {
          "base_uri": "https://localhost:8080/"
        },
        "id": "QRS-RSJLtSVc",
        "outputId": "3d597e67-1240-4f56-803d-941c9d23a3dc"
      },
      "execution_count": null,
      "outputs": [
        {
          "output_type": "stream",
          "name": "stdout",
          "text": [
            "python is popular programming language, python is high level language\n"
          ]
        }
      ]
    },
    {
      "cell_type": "code",
      "source": [
        "# question 6\n",
        "lower = str1.lower()\n",
        "print(lower)"
      ],
      "metadata": {
        "colab": {
          "base_uri": "https://localhost:8080/"
        },
        "id": "lqYBRQfpttjp",
        "outputId": "ed577d06-3415-4200-ae64-0380599c717b"
      },
      "execution_count": null,
      "outputs": [
        {
          "output_type": "stream",
          "name": "stdout",
          "text": [
            "hey, how you doin!\n"
          ]
        }
      ]
    },
    {
      "cell_type": "code",
      "source": [
        "# question 7\n",
        "str1 = \"Hey, How you doin!\"\n",
        "\n",
        "print(str1.startswith(\"Hello\"))"
      ],
      "metadata": {
        "id": "u2pU7SU-t2Ae",
        "colab": {
          "base_uri": "https://localhost:8080/"
        },
        "outputId": "688bcb19-0243-4f0b-ed62-7ecd6b507743"
      },
      "execution_count": null,
      "outputs": [
        {
          "output_type": "stream",
          "name": "stdout",
          "text": [
            "False\n"
          ]
        }
      ]
    },
    {
      "cell_type": "code",
      "source": [
        "# question 8\n",
        "str8 = \"Hello, 123.\"\n",
        "print(str8.isalpha())"
      ],
      "metadata": {
        "id": "6-_0s76ZgckG",
        "colab": {
          "base_uri": "https://localhost:8080/"
        },
        "outputId": "3d8345fd-afd1-45db-defb-b74d43690b88"
      },
      "execution_count": null,
      "outputs": [
        {
          "output_type": "stream",
          "name": "stdout",
          "text": [
            "False\n"
          ]
        }
      ]
    },
    {
      "cell_type": "code",
      "source": [
        "# question 9\n",
        "str9 = str6 = \"joey Chandler Ross Monica Rachel Phoebe\"\n",
        "new_string = str6.replace(\" \", \"-\")\n",
        "print(new_string)"
      ],
      "metadata": {
        "colab": {
          "base_uri": "https://localhost:8080/"
        },
        "id": "RKO4SQ0egr3J",
        "outputId": "6865d71e-0325-4234-92d1-baf2cadd39fb"
      },
      "execution_count": null,
      "outputs": [
        {
          "output_type": "stream",
          "name": "stdout",
          "text": [
            "joey-Chandler-Ross-Monica-Rachel-Phoebe\n"
          ]
        }
      ]
    },
    {
      "cell_type": "code",
      "source": [
        "# question 10\n",
        "words = str1.split()\n",
        "\n",
        "word_count = len(words)\n",
        "\n",
        "print(word_count)"
      ],
      "metadata": {
        "colab": {
          "base_uri": "https://localhost:8080/"
        },
        "id": "6_iXxxoyiHx0",
        "outputId": "1ece038a-8bd7-43bd-e80a-b37689b641dd"
      },
      "execution_count": null,
      "outputs": [
        {
          "output_type": "stream",
          "name": "stdout",
          "text": [
            "4\n"
          ]
        }
      ]
    },
    {
      "cell_type": "code",
      "source": [
        "# question 11\n",
        "camel = str1.title()\n",
        "print(camel)"
      ],
      "metadata": {
        "colab": {
          "base_uri": "https://localhost:8080/"
        },
        "id": "eh9klUdKiV7M",
        "outputId": "c8939204-2b94-4128-dbeb-995f5cecc574"
      },
      "execution_count": null,
      "outputs": [
        {
          "output_type": "stream",
          "name": "stdout",
          "text": [
            "Hey, How You Doin!\n"
          ]
        }
      ]
    },
    {
      "cell_type": "code",
      "source": [
        "# question 12\n",
        "str10 = \"www.google.com\"\n",
        "url_check = str10.endswith(\".com\")\n",
        "print(url_check)"
      ],
      "metadata": {
        "colab": {
          "base_uri": "https://localhost:8080/"
        },
        "id": "kjF3MonGidc1",
        "outputId": "0caeb45c-83e2-4f49-bc37-5934bdb3da88"
      },
      "execution_count": null,
      "outputs": [
        {
          "output_type": "stream",
          "name": "stdout",
          "text": [
            "True\n"
          ]
        }
      ]
    },
    {
      "cell_type": "code",
      "source": [
        "# question 13\n",
        "names_list = str6.split(\",\")\n",
        "\n",
        "sorted_names = sorted(names_list)\n",
        "# print(sorted_names)\n",
        "sorted_names_string = \",\".join(sorted_names)\n",
        "\n",
        "print(sorted_names_string)\n",
        "\n"
      ],
      "metadata": {
        "colab": {
          "base_uri": "https://localhost:8080/"
        },
        "id": "JJEw8nAuivvd",
        "outputId": "f60b48df-6640-419b-c7aa-5c320474f9eb"
      },
      "execution_count": null,
      "outputs": [
        {
          "output_type": "stream",
          "name": "stdout",
          "text": [
            "j,o,e,y, ,C,h,a,n,d,l,e,r, ,R,o,s,s, ,M,o,n,i,c,a, ,R,a,c,h,e,l, ,P,h,o,e,b,e\n"
          ]
        }
      ]
    },
    {
      "cell_type": "code",
      "source": [
        "# question 14\n",
        "string = \"world\"\n",
        "reversed_string = ''.join(reversed(string))\n",
        "print(reversed_string)\n"
      ],
      "metadata": {
        "colab": {
          "base_uri": "https://localhost:8080/"
        },
        "id": "c_OWm2bpjID-",
        "outputId": "033885a1-a422-41c3-f5aa-3e8a667ce579"
      },
      "execution_count": null,
      "outputs": [
        {
          "output_type": "stream",
          "name": "stdout",
          "text": [
            "dlrow\n"
          ]
        }
      ]
    },
    {
      "cell_type": "code",
      "source": [
        "# question 16\n",
        "emails = \"abcdef@example.com;ghijk@example.org;lmnop@gmail.com\"\n",
        "domains = [email.split('@')[1] for email in emails.split(';')]\n",
        "print(domains)\n"
      ],
      "metadata": {
        "colab": {
          "base_uri": "https://localhost:8080/"
        },
        "id": "HpVmrZXyleMj",
        "outputId": "e2f1d107-b3a4-41d0-e0b3-09f62a81793d"
      },
      "execution_count": null,
      "outputs": [
        {
          "output_type": "stream",
          "name": "stdout",
          "text": [
            "['example.com', 'example.org', 'gmail.com']\n"
          ]
        }
      ]
    },
    {
      "cell_type": "code",
      "source": [
        "# question 20\n",
        "swapped_case_sentence = str1.swapcase()\n",
        "print(swapped_case_sentence)"
      ],
      "metadata": {
        "colab": {
          "base_uri": "https://localhost:8080/"
        },
        "id": "5RNZEHjfloWu",
        "outputId": "1e3084a9-b1e8-49a6-c0da-bd60fd1069ff"
      },
      "execution_count": null,
      "outputs": [
        {
          "output_type": "stream",
          "name": "stdout",
          "text": [
            "hEY, hOW YOU DOIN!\n"
          ]
        }
      ]
    },
    {
      "cell_type": "code",
      "source": [
        "# question 21\n",
        "date = \"09-06-2024\"\n",
        "day, month, year = date.split(\"-\")\n",
        "print(year)"
      ],
      "metadata": {
        "colab": {
          "base_uri": "https://localhost:8080/"
        },
        "id": "c-Gg8M-kmVEs",
        "outputId": "82e7ca00-1526-47de-a14d-012664a1f4b8"
      },
      "execution_count": null,
      "outputs": [
        {
          "output_type": "stream",
          "name": "stdout",
          "text": [
            "2024\n"
          ]
        }
      ]
    },
    {
      "cell_type": "code",
      "source": [
        "\n",
        "# question 24\n",
        "cleaned_string = str1.replace(\"!\", \"\").replace(\",\", \"\").replace(\".\", \"\").replace(\"?\", \"\")\n",
        "print(cleaned_string)\n"
      ],
      "metadata": {
        "colab": {
          "base_uri": "https://localhost:8080/"
        },
        "id": "jn2t7LL6m21s",
        "outputId": "ad164660-60a0-4abb-ed74-102276602520"
      },
      "execution_count": null,
      "outputs": [
        {
          "output_type": "stream",
          "name": "stdout",
          "text": [
            "Hey How you doin\n"
          ]
        }
      ]
    },
    {
      "cell_type": "code",
      "source": [
        "# question 27\n",
        "file_path = \"/home/user/documents/my_file.txt\"\n",
        "file_name = file_path.split(\"/\")[-1]\n",
        "print(file_name)"
      ],
      "metadata": {
        "colab": {
          "base_uri": "https://localhost:8080/"
        },
        "id": "LbQWh3nynQys",
        "outputId": "52d50392-fde5-4645-c4e1-bc48e66e577e"
      },
      "execution_count": null,
      "outputs": [
        {
          "output_type": "stream",
          "name": "stdout",
          "text": [
            "my_file.txt\n"
          ]
        }
      ]
    },
    {
      "cell_type": "code",
      "source": [
        " # question 28\n",
        "html_string = \"<div>This is a <b>bold</b> sentence.</div>\"\n",
        "clean_strimg = html_string.replace(\"<div>\", \"\").replace(\"</div>\", \"\").replace(\"<b>\", \"\").replace(\"</b>\", \"\")\n",
        "print(clean_strimg)"
      ],
      "metadata": {
        "colab": {
          "base_uri": "https://localhost:8080/"
        },
        "id": "c13JD-7UnuWJ",
        "outputId": "f80d062b-03dd-4b2d-9c3b-26956b49894b"
      },
      "execution_count": null,
      "outputs": [
        {
          "output_type": "stream",
          "name": "stdout",
          "text": [
            "This is a bold sentence.\n"
          ]
        }
      ]
    },
    {
      "cell_type": "code",
      "source": [
        "# OPERATORS\n",
        "# question 1\n",
        "a,b = 10,20\n",
        "print(a+b)\n",
        "print(a-b)\n",
        "print(a*b)\n",
        "print(a/b)\n",
        "print(a%b)\n",
        "print(a**b)"
      ],
      "metadata": {
        "colab": {
          "base_uri": "https://localhost:8080/"
        },
        "id": "ApIXoGOGoDCj",
        "outputId": "b5902421-9db0-4b6f-a408-1cb9654edeff"
      },
      "execution_count": null,
      "outputs": [
        {
          "output_type": "stream",
          "name": "stdout",
          "text": [
            "30\n",
            "-10\n",
            "200\n",
            "0.5\n",
            "10\n",
            "100000000000000000000\n"
          ]
        }
      ]
    },
    {
      "cell_type": "code",
      "source": [
        "# question 2\n",
        "if (a%2==0):\n",
        "    print(\"even\")\n",
        "else:\n",
        "    print(\"odd\")"
      ],
      "metadata": {
        "colab": {
          "base_uri": "https://localhost:8080/"
        },
        "id": "5AB-Gmo41iEE",
        "outputId": "cbe82c24-27bf-4eda-cab8-e495c9bf6290"
      },
      "execution_count": null,
      "outputs": [
        {
          "output_type": "stream",
          "name": "stdout",
          "text": [
            "even\n"
          ]
        }
      ]
    },
    {
      "cell_type": "code",
      "source": [
        "# question 3\n",
        "if(a>b):\n",
        "    print(\"a is greater\")\n",
        "else:\n",
        "    print(\"b is greater\")"
      ],
      "metadata": {
        "colab": {
          "base_uri": "https://localhost:8080/"
        },
        "id": "N02ukrjy1tw4",
        "outputId": "5f328625-f2e5-422f-9194-88fa9e83d197"
      },
      "execution_count": null,
      "outputs": [
        {
          "output_type": "stream",
          "name": "stdout",
          "text": [
            "b is greater\n"
          ]
        }
      ]
    },
    {
      "cell_type": "code",
      "source": [
        "# question 4\n",
        "p,q = 2,3\n",
        "print(p&q)\n",
        "print(p|q)\n",
        "print(p^q)"
      ],
      "metadata": {
        "colab": {
          "base_uri": "https://localhost:8080/"
        },
        "id": "yhrZp5qV10L9",
        "outputId": "8ed065d4-bc0c-4b4e-cf3b-30d8614fc418"
      },
      "execution_count": null,
      "outputs": [
        {
          "output_type": "stream",
          "name": "stdout",
          "text": [
            "2\n",
            "3\n",
            "1\n"
          ]
        }
      ]
    },
    {
      "cell_type": "code",
      "source": [
        "# question 5\n",
        "n,m = 2,3\n",
        "print(n&m)\n",
        "print(n|m)\n",
        "print(n^m)"
      ],
      "metadata": {
        "colab": {
          "base_uri": "https://localhost:8080/"
        },
        "id": "7__OxUWT2B5N",
        "outputId": "acce37a5-8050-4e99-bb20-816708b65aa8"
      },
      "execution_count": null,
      "outputs": [
        {
          "output_type": "stream",
          "name": "stdout",
          "text": [
            "2\n",
            "3\n",
            "1\n"
          ]
        }
      ]
    },
    {
      "cell_type": "code",
      "source": [
        "# question 6\n",
        "y = 20.2\n",
        "print(y//2)"
      ],
      "metadata": {
        "colab": {
          "base_uri": "https://localhost:8080/"
        },
        "id": "i2nl5l-32dNw",
        "outputId": "34b3b1ec-5c21-4e68-a362-63083f38ecfc"
      },
      "execution_count": null,
      "outputs": [
        {
          "output_type": "stream",
          "name": "stdout",
          "text": [
            "10.0\n"
          ]
        }
      ]
    },
    {
      "cell_type": "code",
      "source": [
        "# questoin 7\n",
        "a= \"sdfg\"\n",
        "b= \"dfghj\"\n",
        "print(a+b)"
      ],
      "metadata": {
        "colab": {
          "base_uri": "https://localhost:8080/"
        },
        "id": "_Pid551j6Hu1",
        "outputId": "448542f8-e595-4bb2-def7-a9c0b40a1bf7"
      },
      "execution_count": null,
      "outputs": [
        {
          "output_type": "stream",
          "name": "stdout",
          "text": [
            "sdfgdfghj\n"
          ]
        }
      ]
    },
    {
      "cell_type": "code",
      "source": [
        "# question 8\n",
        "z = 1\n",
        "z+=1\n",
        "print(z)"
      ],
      "metadata": {
        "colab": {
          "base_uri": "https://localhost:8080/"
        },
        "id": "N7UoI38m6OfD",
        "outputId": "0d87e00c-b6ae-439c-e7f5-313b0ac89840"
      },
      "execution_count": null,
      "outputs": [
        {
          "output_type": "stream",
          "name": "stdout",
          "text": [
            "2\n"
          ]
        }
      ]
    },
    {
      "cell_type": "code",
      "source": [
        "# question 9\n",
        "my_list = ['apple', 'banana', 'cherry']\n",
        "val = 'banana'\n",
        "if val in my_list:\n",
        "    print(\"yes\")\n",
        "else:\n",
        "    print(\"no\")"
      ],
      "metadata": {
        "colab": {
          "base_uri": "https://localhost:8080/"
        },
        "id": "TZ8Fwboz62K2",
        "outputId": "fbecd8a1-0223-4d62-edfd-f3faf97a3a3c"
      },
      "execution_count": null,
      "outputs": [
        {
          "output_type": "stream",
          "name": "stdout",
          "text": [
            "yes\n"
          ]
        }
      ]
    },
    {
      "cell_type": "code",
      "source": [
        "# question 10\n",
        "a,b = b,a\n",
        "print(a,b)"
      ],
      "metadata": {
        "colab": {
          "base_uri": "https://localhost:8080/"
        },
        "id": "yWKEgy4F7vVz",
        "outputId": "6eb97279-555d-4a10-e12a-83368fd96dc4"
      },
      "execution_count": null,
      "outputs": [
        {
          "output_type": "stream",
          "name": "stdout",
          "text": [
            "dfghj sdfg\n"
          ]
        }
      ]
    },
    {
      "cell_type": "code",
      "source": [
        "# question 11\n",
        "x,y = 10,20\n",
        "x+=y\n",
        "print(x)"
      ],
      "metadata": {
        "colab": {
          "base_uri": "https://localhost:8080/"
        },
        "id": "7I9vfxmj75h9",
        "outputId": "e0e5c3df-eaa8-47cf-a33c-4c3e0d709975"
      },
      "execution_count": null,
      "outputs": [
        {
          "output_type": "stream",
          "name": "stdout",
          "text": [
            "30\n"
          ]
        }
      ]
    },
    {
      "cell_type": "code",
      "source": [
        "# question 12\n",
        "num = 10\n",
        "print(num>>2)\n",
        "print(num<<2)"
      ],
      "metadata": {
        "colab": {
          "base_uri": "https://localhost:8080/"
        },
        "id": "YVc7Lq128x8E",
        "outputId": "722436a4-96d8-4c71-f6f4-20b137330360"
      },
      "execution_count": null,
      "outputs": [
        {
          "output_type": "stream",
          "name": "stdout",
          "text": [
            "2\n",
            "40\n"
          ]
        }
      ]
    },
    {
      "cell_type": "code",
      "source": [
        "# question 13\n",
        "text = \"hello world\"\n",
        "n = 3\n",
        "\n",
        "repeated_text = text * n\n",
        "print(repeated_text)"
      ],
      "metadata": {
        "colab": {
          "base_uri": "https://localhost:8080/"
        },
        "id": "wLAR8QKB87Cv",
        "outputId": "72642616-b032-493a-ec66-5636665fe6ac"
      },
      "execution_count": null,
      "outputs": [
        {
          "output_type": "stream",
          "name": "stdout",
          "text": [
            "hello worldhello worldhello world\n"
          ]
        }
      ]
    },
    {
      "cell_type": "code",
      "source": [
        "# question 16\n",
        "flag = True\n",
        "\n",
        "if flag:\n",
        "    print(\"The flag is True\")\n",
        "else:\n",
        "    print(\"The flag is False\")\n"
      ],
      "metadata": {
        "colab": {
          "base_uri": "https://localhost:8080/"
        },
        "id": "3cLN13JE9Oh5",
        "outputId": "75739c44-b1d7-412e-dd63-67797acf161d"
      },
      "execution_count": null,
      "outputs": [
        {
          "output_type": "stream",
          "name": "stdout",
          "text": [
            "The flag is True\n"
          ]
        }
      ]
    },
    {
      "cell_type": "code",
      "source": [
        "# question 18\n",
        "set1 = {1, 2, 3}\n",
        "set2 = {3, 4, 5}\n",
        "\n",
        "union_set = set1 | set2\n",
        "print(union_set)"
      ],
      "metadata": {
        "colab": {
          "base_uri": "https://localhost:8080/"
        },
        "id": "ImVOhqaO9976",
        "outputId": "99bc20d5-00cc-4c55-f841-1466e09e876d"
      },
      "execution_count": null,
      "outputs": [
        {
          "output_type": "stream",
          "name": "stdout",
          "text": [
            "{1, 2, 3, 4, 5}\n"
          ]
        }
      ]
    },
    {
      "cell_type": "code",
      "source": [
        "# question 19\n",
        "my_dict = {\"name\": \"John\", \"age\": 30}\n",
        "key = \"name\"\n",
        "\n",
        "if key in my_dict:\n",
        "    print(\"The key\", key, \"exists in the dictionary\")\n",
        "else:\n",
        "    print(\"The key\", key, \"does not exist in the dictionary\")"
      ],
      "metadata": {
        "colab": {
          "base_uri": "https://localhost:8080/"
        },
        "id": "CSk3wo3T-Ahj",
        "outputId": "b5fecde5-ba29-4c22-d354-de681bbf996d"
      },
      "execution_count": null,
      "outputs": [
        {
          "output_type": "stream",
          "name": "stdout",
          "text": [
            "The key name exists in the dictionary\n"
          ]
        }
      ]
    },
    {
      "cell_type": "code",
      "source": [],
      "metadata": {
        "id": "Ns_a4q9K-Egk"
      },
      "execution_count": null,
      "outputs": []
    }
  ]
}