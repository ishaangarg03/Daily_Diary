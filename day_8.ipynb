{
  "nbformat": 4,
  "nbformat_minor": 0,
  "metadata": {
    "colab": {
      "provenance": [],
      "authorship_tag": "ABX9TyNNN0Djh88BtWpUZ0GECuVD",
      "include_colab_link": true
    },
    "kernelspec": {
      "name": "python3",
      "display_name": "Python 3"
    },
    "language_info": {
      "name": "python"
    }
  },
  "cells": [
    {
      "cell_type": "markdown",
      "metadata": {
        "id": "view-in-github",
        "colab_type": "text"
      },
      "source": [
        "<a href=\"https://colab.research.google.com/github/ishaangarg03/Daily_Diary/blob/main/day_8.ipynb\" target=\"_parent\"><img src=\"https://colab.research.google.com/assets/colab-badge.svg\" alt=\"Open In Colab\"/></a>"
      ]
    },
    {
      "cell_type": "code",
      "execution_count": 1,
      "metadata": {
        "colab": {
          "base_uri": "https://localhost:8080/"
        },
        "id": "Yue4XlNMTxP9",
        "outputId": "68b4e8fb-4645-4747-c02e-c629c3cfebcd"
      },
      "outputs": [
        {
          "output_type": "stream",
          "name": "stdout",
          "text": [
            "Inside constructor\n",
            "Purchasing a mobile\n",
            "This mobile has brand Apple and price 20000\n"
          ]
        }
      ],
      "source": [
        "#question 1\n",
        "class Mobile:\n",
        "    def __init__(self, brand, price):\n",
        "        print(\"Inside constructor\")\n",
        "        self.brand = brand\n",
        "        self.price = price\n",
        "    def purchase(self):\n",
        "        print(\"Purchasing a mobile\")\n",
        "        print(\"This mobile has brand\", self.brand, \"and price\", self.price)\n",
        "\n",
        "mobile1 = Mobile(\"Apple\", 20000)\n",
        "mobile1.purchase()"
      ]
    },
    {
      "cell_type": "code",
      "source": [
        "#question 2\n",
        "class Customer:\n",
        "    def __init__(self, cust_id, name, age, wallet_balance):\n",
        "        self.cust_id = cust_id\n",
        "        self.name = name\n",
        "        self.age = age\n",
        "        self.wallet_balance = wallet_balance\n",
        "\n",
        "    def update_balance(self,amount):\n",
        "        if amount < 1000 and amount > 0:\n",
        "            self.wallet_balance += amount\n",
        "\n",
        "    def show_balance(self):\n",
        "            print(\"The balance is \",self.wallet_balance)\n",
        "\n",
        "c1=Customer(100, \"Gopal\", 24, 1000)\n",
        "c1.update_balance(500)\n",
        "c1.show_balance()\n",
        "\n"
      ],
      "metadata": {
        "colab": {
          "base_uri": "https://localhost:8080/"
        },
        "id": "YDRrqLoZUIw2",
        "outputId": "4fcd2532-4928-4dad-f2bf-33afd8675c46"
      },
      "execution_count": 15,
      "outputs": [
        {
          "output_type": "stream",
          "name": "stdout",
          "text": [
            "The balance is  10000000000\n"
          ]
        }
      ]
    },
    {
      "cell_type": "code",
      "source": [
        "#question 3\n",
        "class Customer:\n",
        "    def __init__(self, cust_id, name, age, wallet_balance):\n",
        "        self.cust_id = cust_id\n",
        "        self.name = name\n",
        "        self.age = age\n",
        "        self.wallet_balance = wallet_balance\n",
        "\n",
        "    def update_balance(self, amount):\n",
        "        if amount < 1000 and amount > 0:\n",
        "            self.wallet_balance += amount\n",
        "\n",
        "    def show_balance(self):\n",
        "        print (\"The balance is \",self.wallet_balance)\n",
        "\n",
        "c1=Customer(100, \"Gopal\", 24, 1000)\n",
        "c1.wallet_balance = 10000000000\n",
        "\n",
        "c1.show_balance()\n"
      ],
      "metadata": {
        "colab": {
          "base_uri": "https://localhost:8080/"
        },
        "id": "fFIhoNOSUy3A",
        "outputId": "c5b59016-f744-45da-b53f-14b3fd55e341"
      },
      "execution_count": 16,
      "outputs": [
        {
          "output_type": "stream",
          "name": "stdout",
          "text": [
            "The balance is  10000000000\n"
          ]
        }
      ]
    },
    {
      "cell_type": "code",
      "source": [
        "#question 4\n",
        "class Customer:\n",
        "    def __init__(self, cust_id, name, age, wallet_balance):\n",
        "        self.cust_id = cust_id\n",
        "        self.name = name\n",
        "        self.age = age\n",
        "        self.__wallet_balance = wallet_balance\n",
        "\n",
        "    def update_balance(self, amount):\n",
        "        if amount < 1000 and amount > 0:\n",
        "            self.__wallet_balance += amount\n",
        "\n",
        "    def show_balance(self):\n",
        "        print (\"The balance is \",self.__wallet_balance)\n",
        "\n",
        "c1=Customer(100, \"Gopal\", 24, 1000)\n",
        "c1.__wallet_balance = 10000000000\n",
        "c1.show_balance()\n",
        "\n",
        "\n"
      ],
      "metadata": {
        "colab": {
          "base_uri": "https://localhost:8080/"
        },
        "id": "9ZV6UZ4kU-TV",
        "outputId": "3aa20c2d-ab09-4e65-9e4d-c3f011baa100"
      },
      "execution_count": 17,
      "outputs": [
        {
          "output_type": "stream",
          "name": "stdout",
          "text": [
            "The balance is  1000\n"
          ]
        }
      ]
    },
    {
      "cell_type": "code",
      "source": [
        "#question 5 accessig private variable\n",
        "class Customer:\n",
        "    def __init__(self, cust_id, name, age,wallet_balance):\n",
        "        self.cust_id = cust_id\n",
        "        self.name = name\n",
        "        self.age = age\n",
        "        self.__wallet_balance = wallet_balance\n",
        "\n",
        "    def update_balance(self, amount):\n",
        "        if amount < 1000 and amount> 0:\n",
        "            self.__wallet_balance += amount\n",
        "\n",
        "    def show_balance(self):\n",
        "        print (\"The balance is \",self.__wallet_balance)\n",
        "\n",
        "c1=Customer(100, \"Gopal\", 24, 1000)\n",
        "c1._Customer__wallet_balance = 10000000000\n",
        "c1.show_balance()\n",
        "\n"
      ],
      "metadata": {
        "colab": {
          "base_uri": "https://localhost:8080/"
        },
        "id": "r0EVVAkDVUtr",
        "outputId": "7774cde7-6eb9-4c51-95fb-80622a8f55b2"
      },
      "execution_count": 18,
      "outputs": [
        {
          "output_type": "stream",
          "name": "stdout",
          "text": [
            "The balance is  10000000000\n"
          ]
        }
      ]
    },
    {
      "cell_type": "code",
      "source": [
        "#question 6 getters methods\n",
        "class Customer:\n",
        "    def __init__(self, id, name, age, wallet_balance):\n",
        "        self.id = id\n",
        "        self.name = name\n",
        "        self.age = age\n",
        "        self.__wallet_balance = wallet_balance\n",
        "\n",
        "    def set_wallet_balance(self, amount):\n",
        "        if amount < 1000 and amount > 0:\n",
        "            self.__wallet_balance = amount\n",
        "\n",
        "    def get_wallet_balance(self):\n",
        "        return self.__wallet_balance\n",
        "\n",
        "c1=Customer(100, \"Gopal\", 24, 1000)\n",
        "c1.set_wallet_balance(120)\n",
        "print(c1.get_wallet_balance())\n"
      ],
      "metadata": {
        "colab": {
          "base_uri": "https://localhost:8080/"
        },
        "id": "2r-C_3zyXqxx",
        "outputId": "87e152c5-18f3-4914-bab4-30a425b13459"
      },
      "execution_count": 19,
      "outputs": [
        {
          "output_type": "stream",
          "name": "stdout",
          "text": [
            "120\n"
          ]
        }
      ]
    },
    {
      "cell_type": "code",
      "source": [
        "#question 7 setters methods\n",
        "class Customer:\n",
        "    def __init__(self, id, name, age, wallet_balance):\n",
        "        self.id = id\n",
        "        self.name = name\n",
        "        self.age = age\n",
        "        self.__wallet_balance = wallet_balance\n",
        "    def set_wallet_balance(self, amount):\n",
        "        if amount < 1000 and amount>  0:\n",
        "            self.__wallet_balance = amount\n",
        "    def get_wallet_balance(self):\n",
        "        return self.__wallet_balance\n",
        "c1=Customer(100, \"Gopal\", 24, 1000)\n",
        "c1.set_wallet_balance(120)\n",
        "print(c1.get_wallet_balance())\n"
      ],
      "metadata": {
        "colab": {
          "base_uri": "https://localhost:8080/"
        },
        "id": "s67jIE3PYHI0",
        "outputId": "3ce7f15d-7792-4d1f-ac92-f457cf8cb2de"
      },
      "execution_count": 20,
      "outputs": [
        {
          "output_type": "stream",
          "name": "stdout",
          "text": [
            "120\n"
          ]
        }
      ]
    },
    {
      "cell_type": "code",
      "source": [
        "#question 8 we pass an object as a parameter to a function\n",
        "class Mobile:\n",
        "    def __init__(self, price, brand):\n",
        "        self.price = price\n",
        "        self.brand = brand\n",
        "\n",
        "def change_price(mobile_obj):\n",
        "    mobile_obj.price = 3000\n",
        "\n",
        "mob1=Mobile(1000, \"Apple\")\n",
        "change_price(mob1)\n",
        "print (mob1.price)\n"
      ],
      "metadata": {
        "colab": {
          "base_uri": "https://localhost:8080/"
        },
        "id": "HHKY6VIeYjbp",
        "outputId": "9fd65b39-6883-439a-b7bf-86d2343f7f0c"
      },
      "execution_count": 21,
      "outputs": [
        {
          "output_type": "stream",
          "name": "stdout",
          "text": [
            "3000\n"
          ]
        }
      ]
    },
    {
      "cell_type": "code",
      "source": [
        "#question 9 pass an object to a parameter\n",
        "class Mobile:\n",
        "    def __init__(self, price, brand):\n",
        "        self.price = price\n",
        "        self.brand = brand\n",
        "\n",
        "    def change_price(mobile_obj):\n",
        "        print (\"Id of object inside function\", id(mobile_obj))\n",
        "        mobile_obj.price = 3000\n",
        "\n",
        "mob1=Mobile(1000, \"Apple\")\n",
        "print (\"Id of object in driver code\", id(mob1))\n",
        "\n",
        "mob1.change_price()\n",
        "print (\"Price of mob1 \", mob1.price)"
      ],
      "metadata": {
        "id": "NcHurQK8Y173"
      },
      "execution_count": null,
      "outputs": []
    },
    {
      "cell_type": "code",
      "source": [
        "#question 10 list of objects\n",
        "class Mobile:\n",
        "    def __init__(self, brand, price):\n",
        "        self.brand = brand\n",
        "        self.price = price\n",
        "\n",
        "mob1=Mobile(\"Apple\", 1000)\n",
        "mob2=Mobile(\"Samsung\", 2000)\n",
        "mob3=Mobile(\"Apple\", 3000)\n",
        "mob4=Mobile(\"Samsung\", 4000)\n",
        "mob5=Mobile(\"Apple\", 5000)\n",
        "\n",
        "list_of_mobiles=[mob1, mob2, mob3, mob4, mob5]\n",
        "\n",
        "for mobile in list_of_mobiles:\n",
        "    print (mobile.brand,mobile.price)\n"
      ],
      "metadata": {
        "colab": {
          "base_uri": "https://localhost:8080/"
        },
        "id": "Tn_mpzO1ZHUu",
        "outputId": "d855224e-c0c3-423f-d160-3f9c94b39efd"
      },
      "execution_count": 22,
      "outputs": [
        {
          "output_type": "stream",
          "name": "stdout",
          "text": [
            "Apple 1000\n",
            "Samsung 2000\n",
            "Apple 3000\n",
            "Samsung 4000\n",
            "Apple 5000\n"
          ]
        }
      ]
    },
    {
      "cell_type": "code",
      "source": [
        "#question 11 dictionary of objects\n",
        "class Mobile:\n",
        "    def __init__(self,brand,price):\n",
        "        self.brand = brand\n",
        "        self.price = price\n",
        "\n",
        "mob1=Mobile(\"Apple\", 1000)\n",
        "mob2=Mobile(\"Samsung\", 5000)\n",
        "mob3=Mobile(\"Apple\", 3000)\n",
        "\n",
        "mob_dict={\n",
        "          \"m1\":mob1,\n",
        "          \"m2\":mob2,\n",
        "          \"m3\":mob3\n",
        "          }\n",
        "\n",
        "for key,value in mob_dict.items():\n",
        "    if value.price > 3000:\n",
        "        print (value.brand,value.price)\n"
      ],
      "metadata": {
        "colab": {
          "base_uri": "https://localhost:8080/"
        },
        "id": "OelZLw44avXH",
        "outputId": "56a3bd28-ed6f-4e3c-a976-b22570769114"
      },
      "execution_count": 23,
      "outputs": [
        {
          "output_type": "stream",
          "name": "stdout",
          "text": [
            "Samsung 5000\n"
          ]
        }
      ]
    },
    {
      "cell_type": "code",
      "source": [
        "#question 12 dictionary list of object\n",
        "class Customer:\n",
        "    def __init__(self, cust_id, cust_name, location):\n",
        "        self.cust_id = cust_id\n",
        "        self.cust_name = cust_name\n",
        "        self.location = location\n",
        "\n",
        "list_of_customers = [Customer(101, 'Mark', 'US'),\n",
        "Customer(102, 'Jane', 'Japan'),\n",
        "Customer(103, 'Kumar', 'India')]\n",
        "\n",
        "dict_of_customer={}\n",
        "for customer in list_of_customers:\n",
        "    dict_of_customer[customer.location] = customer\n",
        "\n",
        "print (\"Customer name in India is \"+dict_of_customer[\"India\"].cust_name)\n",
        "\n",
        "for key,value in dict_of_customer.items():\n",
        "    print (\"Location: \"+key+\", Name: \"+value.cust_name+\", Id: \"+(str(value.cust_id)))\n"
      ],
      "metadata": {
        "colab": {
          "base_uri": "https://localhost:8080/"
        },
        "id": "LymdZAgBa77i",
        "outputId": "5048970d-b1fa-4c1b-8fb3-69390bb7e3b0"
      },
      "execution_count": 25,
      "outputs": [
        {
          "output_type": "stream",
          "name": "stdout",
          "text": [
            "Customer name in India is Kumar\n",
            "Location: US, Name: Mark, Id: 101\n",
            "Location: Japan, Name: Jane, Id: 102\n",
            "Location: India, Name: Kumar, Id: 103\n"
          ]
        }
      ]
    },
    {
      "cell_type": "code",
      "source": [],
      "metadata": {
        "id": "yWcutp9GbJev"
      },
      "execution_count": null,
      "outputs": []
    }
  ]
}