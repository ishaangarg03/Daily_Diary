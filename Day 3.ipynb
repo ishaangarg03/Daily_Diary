{
  "nbformat": 4,
  "nbformat_minor": 0,
  "metadata": {
    "colab": {
      "provenance": [],
      "authorship_tag": "ABX9TyPU+aduJf6QQoF5kPKnfxLY",
      "include_colab_link": true
    },
    "kernelspec": {
      "name": "python3",
      "display_name": "Python 3"
    },
    "language_info": {
      "name": "python"
    }
  },
  "cells": [
    {
      "cell_type": "markdown",
      "metadata": {
        "id": "view-in-github",
        "colab_type": "text"
      },
      "source": [
        "<a href=\"https://colab.research.google.com/github/ishaangarg03/Daily_Diary/blob/main/Day%203.ipynb\" target=\"_parent\"><img src=\"https://colab.research.google.com/assets/colab-badge.svg\" alt=\"Open In Colab\"/></a>"
      ]
    },
    {
      "cell_type": "code",
      "execution_count": null,
      "metadata": {
        "id": "S_a8SPxvVKGT"
      },
      "outputs": [],
      "source": [
        "#8/6\n",
        "# SETS\n",
        "# question 1\n",
        "prime = {2,3,5,7,11,13,17,19,23}\n",
        "print(prime)\n",
        "\n",
        "# question 2\n",
        "prime.add(7)\n",
        "print(prime)\n",
        "\n",
        "# question 3\n",
        "prime.remove(3)\n",
        "print(prime)\n",
        "\n",
        "# question 4\n",
        "a = {2,3,5,7,11}\n",
        "print(prime.issubset(a))\n",
        "\n",
        "# question 5\n",
        "b = {7,11,13}\n",
        "prime. union(b)\n",
        "print(prime)\n",
        "\n",
        "# question 6\n",
        "fs = frozenset(prime)\n",
        "print(fs)\n",
        "\n",
        "# question 7\n",
        "c = {1,4,9}\n",
        "print(prime.intersection(c))\n",
        "\n",
        "# question 8\n",
        "print(prime.clear())\n",
        "\n",
        "# question 9\n",
        "fruits =  { 'apple', 'banana', 'orange' }\n",
        "myfruits = {'watermelon','avacado','orange'}\n",
        "print(fruits.intersection(myfruits))\n",
        "\n",
        "# question 10\n",
        "squares = {x**2 for x in range(1, 11)}\n",
        "print(squares)"
      ]
    }
  ]
}