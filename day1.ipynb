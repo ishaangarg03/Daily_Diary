{
  "nbformat": 4,
  "nbformat_minor": 0,
  "metadata": {
    "colab": {
      "provenance": [],
      "authorship_tag": "ABX9TyMz4jcwY7t0vLMVLl1nfoPF",
      "include_colab_link": true
    },
    "kernelspec": {
      "name": "python3",
      "display_name": "Python 3"
    },
    "language_info": {
      "name": "python"
    }
  },
  "cells": [
    {
      "cell_type": "markdown",
      "metadata": {
        "id": "view-in-github",
        "colab_type": "text"
      },
      "source": [
        "<a href=\"https://colab.research.google.com/github/ishaangarg03/Daily_Diary/blob/main/day1.ipynb\" target=\"_parent\"><img src=\"https://colab.research.google.com/assets/colab-badge.svg\" alt=\"Open In Colab\"/></a>"
      ]
    },
    {
      "cell_type": "code",
      "execution_count": 1,
      "metadata": {
        "id": "5UfXUWliANga",
        "colab": {
          "base_uri": "https://localhost:8080/",
          "height": 634
        },
        "outputId": "6d81b869-03c9-4e85-c685-bc7945edcc56"
      },
      "outputs": [
        {
          "metadata": {
            "tags": null
          },
          "name": "stdout",
          "output_type": "stream",
          "text": [
            "Hello, World!\n",
            "3\n",
            "1\n",
            "2\n",
            "2.0\n",
            "2\n",
            "0\n",
            "2\n",
            "62\n",
            "38%,46%,15%\n",
            "15\n",
            "33.5°c\n",
            "32.5c\n",
            "32.5 c\n",
            "8000\n",
            "1\n",
            "2.197534089590265\n",
            "65\n"
          ]
        },
        {
          "output_type": "error",
          "ename": "KeyboardInterrupt",
          "evalue": "Interrupted by user",
          "traceback": [
            "\u001b[0;31m---------------------------------------------------------------------------\u001b[0m",
            "\u001b[0;31mKeyboardInterrupt\u001b[0m                         Traceback (most recent call last)",
            "\u001b[0;32m<ipython-input-1-d2d1778eb57e>\u001b[0m in \u001b[0;36m<cell line: 79>\u001b[0;34m()\u001b[0m\n\u001b[1;32m     77\u001b[0m \u001b[0;31m# question 8\u001b[0m\u001b[0;34m\u001b[0m\u001b[0;34m\u001b[0m\u001b[0m\n\u001b[1;32m     78\u001b[0m \u001b[0mgem_count\u001b[0m \u001b[0;34m=\u001b[0m \u001b[0;36m50\u001b[0m\u001b[0;34m\u001b[0m\u001b[0;34m\u001b[0m\u001b[0m\n\u001b[0;32m---> 79\u001b[0;31m \u001b[0mnum\u001b[0m \u001b[0;34m=\u001b[0m \u001b[0mint\u001b[0m\u001b[0;34m(\u001b[0m\u001b[0minput\u001b[0m\u001b[0;34m(\u001b[0m\u001b[0;34m\"enter how many times you got the turn: \"\u001b[0m\u001b[0;34m)\u001b[0m\u001b[0;34m)\u001b[0m\u001b[0;34m\u001b[0m\u001b[0;34m\u001b[0m\u001b[0m\n\u001b[0m",
            "\u001b[0;32m/usr/local/lib/python3.10/dist-packages/ipykernel/kernelbase.py\u001b[0m in \u001b[0;36mraw_input\u001b[0;34m(self, prompt)\u001b[0m\n\u001b[1;32m    849\u001b[0m                 \u001b[0;34m\"raw_input was called, but this frontend does not support input requests.\"\u001b[0m\u001b[0;34m\u001b[0m\u001b[0;34m\u001b[0m\u001b[0m\n\u001b[1;32m    850\u001b[0m             )\n\u001b[0;32m--> 851\u001b[0;31m         return self._input_request(str(prompt),\n\u001b[0m\u001b[1;32m    852\u001b[0m             \u001b[0mself\u001b[0m\u001b[0;34m.\u001b[0m\u001b[0m_parent_ident\u001b[0m\u001b[0;34m,\u001b[0m\u001b[0;34m\u001b[0m\u001b[0;34m\u001b[0m\u001b[0m\n\u001b[1;32m    853\u001b[0m             \u001b[0mself\u001b[0m\u001b[0;34m.\u001b[0m\u001b[0m_parent_header\u001b[0m\u001b[0;34m,\u001b[0m\u001b[0;34m\u001b[0m\u001b[0;34m\u001b[0m\u001b[0m\n",
            "\u001b[0;32m/usr/local/lib/python3.10/dist-packages/ipykernel/kernelbase.py\u001b[0m in \u001b[0;36m_input_request\u001b[0;34m(self, prompt, ident, parent, password)\u001b[0m\n\u001b[1;32m    893\u001b[0m             \u001b[0;32mexcept\u001b[0m \u001b[0mKeyboardInterrupt\u001b[0m\u001b[0;34m:\u001b[0m\u001b[0;34m\u001b[0m\u001b[0;34m\u001b[0m\u001b[0m\n\u001b[1;32m    894\u001b[0m                 \u001b[0;31m# re-raise KeyboardInterrupt, to truncate traceback\u001b[0m\u001b[0;34m\u001b[0m\u001b[0;34m\u001b[0m\u001b[0m\n\u001b[0;32m--> 895\u001b[0;31m                 \u001b[0;32mraise\u001b[0m \u001b[0mKeyboardInterrupt\u001b[0m\u001b[0;34m(\u001b[0m\u001b[0;34m\"Interrupted by user\"\u001b[0m\u001b[0;34m)\u001b[0m \u001b[0;32mfrom\u001b[0m \u001b[0;32mNone\u001b[0m\u001b[0;34m\u001b[0m\u001b[0;34m\u001b[0m\u001b[0m\n\u001b[0m\u001b[1;32m    896\u001b[0m             \u001b[0;32mexcept\u001b[0m \u001b[0mException\u001b[0m \u001b[0;32mas\u001b[0m \u001b[0me\u001b[0m\u001b[0;34m:\u001b[0m\u001b[0;34m\u001b[0m\u001b[0;34m\u001b[0m\u001b[0m\n\u001b[1;32m    897\u001b[0m                 \u001b[0mself\u001b[0m\u001b[0;34m.\u001b[0m\u001b[0mlog\u001b[0m\u001b[0;34m.\u001b[0m\u001b[0mwarning\u001b[0m\u001b[0;34m(\u001b[0m\u001b[0;34m\"Invalid Message:\"\u001b[0m\u001b[0;34m,\u001b[0m \u001b[0mexc_info\u001b[0m\u001b[0;34m=\u001b[0m\u001b[0;32mTrue\u001b[0m\u001b[0;34m)\u001b[0m\u001b[0;34m\u001b[0m\u001b[0;34m\u001b[0m\u001b[0m\n",
            "\u001b[0;31mKeyboardInterrupt\u001b[0m: Interrupted by user"
          ]
        }
      ],
      "source": [
        " # day 1\n",
        "print(\"Hello, World!\")\n",
        "# addition\n",
        "print(2+1)\n",
        "# subtraction\n",
        "print(2-1)\n",
        "# multiplication\n",
        "print(2*1)\n",
        "# division\n",
        "print(2/1)\n",
        "# floor division\n",
        "print(2//1)\n",
        "# modulo\n",
        "print(2%1)\n",
        "# exponential\n",
        "print(2**1)\n",
        "# operator precedence\n",
        "print((5+2)*3**2-1)\n",
        "# activity 1\n",
        "wins = 3\n",
        "draw = 1\n",
        "loss = 0\n",
        "# activity 2\n",
        "raisin = 50\n",
        "almond = 60\n",
        "apricot = 20\n",
        "raisin_percentage = round((50/130)*100)\n",
        "almond_percentage = round((60/130)*100)\n",
        "apricot_percentage = round((20/130)*100)\n",
        "print(f\"{raisin_percentage}%,{almond_percentage}%,{apricot_percentage}%\")\n",
        "\n",
        "#question 1\n",
        "lion_population = 10\n",
        "lion_population += 5\n",
        "print(lion_population)\n",
        "\n",
        "# question 2\n",
        "temperature = 25.5\n",
        "temperature += 8\n",
        "print(f\"{temperature}°c\")\n",
        "\n",
        "# question 3\n",
        "plant_height = 15\n",
        "plant_grows = 2.5\n",
        "week_growth = 7*plant_grows\n",
        "final_height = plant_height + week_growth\n",
        "print(f\"{final_height}c\")\n",
        "print(final_height,\"c\")\n",
        "\n",
        "# question 4\n",
        "initial_velocity = 3000\n",
        "acceleration = 500\n",
        "time = 10\n",
        "velocity = acceleration * time\n",
        "final_velocity = initial_velocity + velocity\n",
        "print(final_velocity)\n",
        "\n",
        "#question 5\n",
        "pizza_slices = 8\n",
        "total_friends = 5\n",
        "pizza = pizza_slices // total_friends\n",
        "print(pizza)\n",
        "\n",
        "# question 6\n",
        "pendulum_length = 1.2\n",
        "pi = 3.14159\n",
        "g = 9.81\n",
        "T = 2*pi*((pendulum_length/g)**0.5)\n",
        "print(T)\n",
        "\n",
        "# question 7\n",
        "bug_count = 100\n",
        "bugs_fixed = 35\n",
        "bug_count -= bugs_fixed\n",
        "print(bug_count)\n",
        "\n",
        "# question 8\n",
        "gem_count = 50\n",
        "num = int(input(\"enter how many times you got the turn: \"))\n"
      ]
    }
  ]
}