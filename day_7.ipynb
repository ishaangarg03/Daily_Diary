{
  "nbformat": 4,
  "nbformat_minor": 0,
  "metadata": {
    "colab": {
      "provenance": [],
      "include_colab_link": true
    },
    "kernelspec": {
      "name": "python3",
      "display_name": "Python 3"
    },
    "language_info": {
      "name": "python"
    }
  },
  "cells": [
    {
      "cell_type": "markdown",
      "metadata": {
        "id": "view-in-github",
        "colab_type": "text"
      },
      "source": [
        "<a href=\"https://colab.research.google.com/github/ishaangarg03/Daily_Diary/blob/main/day_7.ipynb\" target=\"_parent\"><img src=\"https://colab.research.google.com/assets/colab-badge.svg\" alt=\"Open In Colab\"/></a>"
      ]
    },
    {
      "cell_type": "code",
      "execution_count": null,
      "metadata": {
        "colab": {
          "base_uri": "https://localhost:8080/"
        },
        "id": "dP3cCrlcyAtp",
        "outputId": "53f76d14-577c-48f3-a534-ab4b890a4eb9"
      },
      "outputs": [
        {
          "output_type": "stream",
          "name": "stdout",
          "text": [
            "hyundai\n",
            "verna\n",
            "2024\n"
          ]
        }
      ],
      "source": [
        "# 13/06\n",
        "# oops\n",
        "class car:\n",
        "  make = \"hyundai\"\n",
        "  model = \"verna\"\n",
        "  year = \"2024\"\n",
        "obj1 = car()\n",
        "print(obj1.make)\n",
        "print(obj1.model)\n",
        "print(obj1.year)"
      ]
    },
    {
      "cell_type": "code",
      "source": [
        "# question 2\n",
        "class person:\n",
        "  name = \"\"\n",
        "  age= 0\n",
        "  def greet(self,a,b):\n",
        "    name = a\n",
        "    age = b\n",
        "    print(\"hello\",name,\"you are\",age,\"years old\")\n",
        "\n",
        "obj2 = person()\n",
        "obj2.greet(\"rahul\",23)"
      ],
      "metadata": {
        "colab": {
          "base_uri": "https://localhost:8080/"
        },
        "id": "FFecIDUz6tk6",
        "outputId": "db7880c6-6837-4535-d601-ff80ab02761b"
      },
      "execution_count": null,
      "outputs": [
        {
          "output_type": "stream",
          "name": "stdout",
          "text": [
            "hello rahul you are 23 years old\n"
          ]
        }
      ]
    },
    {
      "cell_type": "code",
      "source": [
        "# question 3\n",
        "class rectangle:\n",
        "  length = 20\n",
        "  breadth = 10\n",
        "  def area(self):\n",
        "    print(self.length*self.breadth)\n",
        "obj3 = rectangle()\n",
        "obj3.area()"
      ],
      "metadata": {
        "colab": {
          "base_uri": "https://localhost:8080/"
        },
        "id": "xUN03Xim6yaV",
        "outputId": "0c0cf04f-7d9c-48ab-8463-e4b8de18fdf8"
      },
      "execution_count": null,
      "outputs": [
        {
          "output_type": "stream",
          "name": "stdout",
          "text": [
            "200\n"
          ]
        }
      ]
    },
    {
      "cell_type": "code",
      "source": [
        "# question 4\n",
        "class student:\n",
        "  name = \"lovin\"\n",
        "  grade = [80,80,70,90,60]\n",
        "  def avg(self):\n",
        "    grade = self.grade\n",
        "    print(sum(grade)/len(grade))\n",
        "obj4 = student()\n",
        "obj4.avg()"
      ],
      "metadata": {
        "colab": {
          "base_uri": "https://localhost:8080/"
        },
        "id": "w5JE5HUF75cp",
        "outputId": "a8e2c046-93c8-42c8-d5a7-7d516c144d5d"
      },
      "execution_count": null,
      "outputs": [
        {
          "output_type": "stream",
          "name": "stdout",
          "text": [
            "76.0\n"
          ]
        }
      ]
    },
    {
      "cell_type": "code",
      "source": [
        "# question 5\n",
        "class book:\n",
        "    def __init__(self,title,author,pages):\n",
        "        self.title=title\n",
        "        self.author=author\n",
        "        self.pages=pages\n",
        "    def book_details(self):\n",
        "        print(\"title:\",self.title)\n",
        "        print(\"author:\",self.author)\n",
        "        print(\"pages:\",self.pages)\n",
        "obj5=book(input(\"enter title:\"),input(\"enter author:\"),input(\"enter pages:\"))\n",
        "obj5.book_details()"
      ],
      "metadata": {
        "colab": {
          "base_uri": "https://localhost:8080/"
        },
        "id": "VAxI1URI8gGs",
        "outputId": "2737a6ca-a53d-4b37-e6e2-f0df02654179"
      },
      "execution_count": null,
      "outputs": [
        {
          "output_type": "stream",
          "name": "stdout",
          "text": [
            "enter title:tsaongaf\n",
            "enter author:mark manson\n",
            "enter pages:200\n",
            "title: tsaongaf\n",
            "author: mark manson\n",
            "pages: 200\n"
          ]
        }
      ]
    },
    {
      "cell_type": "code",
      "source": [
        "# question 6\n",
        "class dog:\n",
        "  name = \"\"\n",
        "  breed = \"\"\n",
        "  def bark(self):\n",
        "    print(\"bark\")\n",
        "obj6 = dog()\n",
        "obj6.bark()"
      ],
      "metadata": {
        "colab": {
          "base_uri": "https://localhost:8080/"
        },
        "id": "O7ZZ9K4K9fqk",
        "outputId": "f9f5f01d-be2d-456f-9bd0-13d04a6970a6"
      },
      "execution_count": null,
      "outputs": [
        {
          "output_type": "stream",
          "name": "stdout",
          "text": [
            "bark\n"
          ]
        }
      ]
    },
    {
      "cell_type": "code",
      "source": [
        "# question 7\n",
        "class BankAccount:\n",
        "  def __init__(self, account_number, initial_balance=0.0):\n",
        "    self.account_number = account_number\n",
        "    self.balance = initial_balance\n",
        "\n",
        "  def deposit(self, amount):\n",
        "    if amount > 0:\n",
        "      self.balance += amount\n",
        "      print(\"Deposit successful. New balance:\", self.balance)\n",
        "    else:\n",
        "      print(\"Invalid deposit amount. Please enter a positive amount.\")\n",
        "  def withdraw(self, amount):\n",
        "    if amount > 0 and amount <= self.balance:\n",
        "      self.balance -= amount\n",
        "      print(\"Withdrawal successful. New balance:\", self.balance)\n",
        "    else:\n",
        "      print(\"Invalid withdrawal amount or insufficient balance.\")\n",
        "obj7 = BankAccount(123456)\n",
        "obj7.deposit(500)\n",
        "obj7.withdraw(250)"
      ],
      "metadata": {
        "colab": {
          "base_uri": "https://localhost:8080/"
        },
        "id": "lf3W12wQ93ar",
        "outputId": "d4d1c65d-a976-4a56-e1ed-8c4507207014"
      },
      "execution_count": null,
      "outputs": [
        {
          "output_type": "stream",
          "name": "stdout",
          "text": [
            "Deposit successful. New balance: 500.0\n",
            "Withdrawal successful. New balance: 250.0\n"
          ]
        }
      ]
    },
    {
      "cell_type": "code",
      "source": [
        "# question 8\n",
        "class circle:\n",
        "  def __init__(self, radius):\n",
        "    self.radius = radius\n",
        "\n",
        "  def area(self):\n",
        "    return 3.14 * self.radius ** 2\n",
        "  def perimeter(self):\n",
        "    return 2 * 3.14 * self.radius\n",
        "obj8 = circle(5)\n",
        "print(obj8.area())\n",
        "print(obj8.perimeter())"
      ],
      "metadata": {
        "colab": {
          "base_uri": "https://localhost:8080/"
        },
        "id": "y34JKVHc-N1U",
        "outputId": "de69e748-8a73-4742-ce6b-d9b6c9d07416"
      },
      "execution_count": null,
      "outputs": [
        {
          "output_type": "stream",
          "name": "stdout",
          "text": [
            "78.5\n",
            "31.400000000000002\n"
          ]
        }
      ]
    },
    {
      "cell_type": "code",
      "source": [
        "# question 9\n",
        "class laptop:\n",
        "  def __init__(self,brand,price):\n",
        "    self.brand = brand\n",
        "    self.price = price\n",
        "  def display(self):\n",
        "    print(\"brand:\",self.brand)\n",
        "    print(\"price:\",self.price)\n",
        "  def discount(self, d):\n",
        "    dv = self.price * (d/100)\n",
        "    self.price -= dv\n",
        "    print(\"discount:\",dv)\n",
        "    print(\"after discount:\",self.price)\n",
        "obj9 = laptop(input(\"enter brand:\"),int(input(\"enter price:\")))\n",
        "obj9.display()\n",
        "obj9.discount(int(input(\"enter discount percentage:\")))\n",
        "\n",
        "\n",
        "\n"
      ],
      "metadata": {
        "colab": {
          "base_uri": "https://localhost:8080/"
        },
        "id": "we4Ygtrm-xK-",
        "outputId": "da960e07-5f9d-4aef-d432-21c3aac9ad8b"
      },
      "execution_count": null,
      "outputs": [
        {
          "output_type": "stream",
          "name": "stdout",
          "text": [
            "enter brand:asus\n",
            "enter price:50000\n",
            "brand: asus\n",
            "price: 50000\n",
            "enter discount:20\n",
            "discount: 10000.0\n",
            "after discount: 40000.0\n"
          ]
        }
      ]
    },
    {
      "cell_type": "code",
      "source": [
        "# question 10\n",
        "class employee:\n",
        "    def __init__(self, name, salary):\n",
        "        self.name = name\n",
        "        self.salary = salary\n",
        "    def salary_raise(self,p):\n",
        "      self.salary = self.salary + (self.salary * p/100)\n",
        "      print(self.salary)\n",
        "obj10= employee(input(\"enter name:\"),int(input(\"enter salary:\")))\n",
        "obj10.salary_raise(int(input(\"enter percentage:\")))\n"
      ],
      "metadata": {
        "colab": {
          "base_uri": "https://localhost:8080/"
        },
        "id": "sxIh5-nV-2xQ",
        "outputId": "41532d38-e49f-4c6d-d6fb-60a7ed819cbc"
      },
      "execution_count": null,
      "outputs": [
        {
          "output_type": "stream",
          "name": "stdout",
          "text": [
            "enter name:asdfg\n",
            "enter salary:10000\n",
            "enter percentage:2\n",
            "10200.0\n"
          ]
        }
      ]
    },
    {
      "cell_type": "code",
      "source": [
        "# question 11\n",
        "class point:\n",
        "  def __init__(self, x,y):\n",
        "    self.x = x\n",
        "    self.y = y\n",
        "  def distance(self,obj):\n",
        "    dx = self.x - obj.x\n",
        "    dy = self.y - obj.y\n",
        "    return (dx**2 + dy**2)**0.5\n",
        "obj11= point(10,20)\n",
        "obj12= point(30,40)\n",
        "print(obj11.distance(obj12))"
      ],
      "metadata": {
        "colab": {
          "base_uri": "https://localhost:8080/"
        },
        "id": "a8xfcWSQAvrC",
        "outputId": "69140808-6053-43c2-acd1-4fcced1ebe21"
      },
      "execution_count": null,
      "outputs": [
        {
          "output_type": "stream",
          "name": "stdout",
          "text": [
            "28.284271247461902\n"
          ]
        }
      ]
    },
    {
      "cell_type": "code",
      "source": [
        "# question 12\n",
        "class movie:\n",
        "  def __init__(self,title,release_year,director):\n",
        "    self.title = title\n",
        "    self.release_year = release_year\n",
        "    self.director = director\n",
        "  def display(self):\n",
        "    print(\"title:\",self.title)\n",
        "    print(\"release_year:\",self.release_year)\n",
        "    print(\"director:\",self.director)\n",
        "obj13 = movie(input(\"enter title:\"),int(input(\"enter release_year:\")),input(\"enter director:\"))\n",
        "obj13.display()"
      ],
      "metadata": {
        "colab": {
          "base_uri": "https://localhost:8080/"
        },
        "id": "gZY879afB3T_",
        "outputId": "198a9c6b-dc2d-4f6a-db0a-57b4f551c87f"
      },
      "execution_count": null,
      "outputs": [
        {
          "output_type": "stream",
          "name": "stdout",
          "text": [
            "enter title:hangover\n",
            "enter release_year:2012\n",
            "enter director:idk\n",
            "title: hangover\n",
            "release_year: 2012\n",
            "director: idk\n"
          ]
        }
      ]
    },
    {
      "cell_type": "code",
      "source": [
        "# question 13\n",
        "class product:\n",
        "  def __init__(self,name,price):\n",
        "    self.name = name\n",
        "    self.price = price\n",
        "  def display_after_tax(self,tax):\n",
        "    self.price = self.price + (self.price * tax/100)\n",
        "    print(round(self.price))\n",
        "obj14 = product(input(\"enter name:\"),int(input(\"enter price:\")))\n",
        "obj14.display_after_tax(int(input(\"enter tax:\")))\n"
      ],
      "metadata": {
        "colab": {
          "base_uri": "https://localhost:8080/"
        },
        "id": "l4_2o-qsCQjX",
        "outputId": "a3b8a201-52bf-47a7-9661-fb4fb4d38063"
      },
      "execution_count": null,
      "outputs": [
        {
          "output_type": "stream",
          "name": "stdout",
          "text": [
            "enter name:joey\n",
            "enter price:200\n",
            "enter tax:20\n",
            "240\n"
          ]
        }
      ]
    },
    {
      "cell_type": "code",
      "source": [
        "# practice questions 2\n",
        "# question 3\n",
        "class calculator:\n",
        "  def __init__(self,num1,num2):\n",
        "    self.num1 = num1\n",
        "    self.num2 = num2\n",
        "  def add(self):\n",
        "    print(self.num1+self.num2)\n",
        "  def sub(self):\n",
        "    print(self.num1-self.num2)\n",
        "  def mul(self):\n",
        "    print(self.num1*self.num2)\n",
        "  def div(self):\n",
        "    print(self.num1/self.num2)\n",
        "ob = calculator(int(input(\"enter num1:\")),int(input(\"enter num2:\")))\n",
        "ob.add()\n",
        "ob.sub()\n",
        "ob.mul()\n",
        "ob.div()"
      ],
      "metadata": {
        "colab": {
          "base_uri": "https://localhost:8080/"
        },
        "id": "qqbgzF0jEA8Q",
        "outputId": "a2866561-e48f-4388-a26a-a8263792404e"
      },
      "execution_count": null,
      "outputs": [
        {
          "output_type": "stream",
          "name": "stdout",
          "text": [
            "enter num1:122\n",
            "enter num2:123\n",
            "245\n",
            "-1\n",
            "15006\n",
            "0.991869918699187\n"
          ]
        }
      ]
    },
    {
      "cell_type": "code",
      "source": [
        "# question 2\n",
        "class person:\n",
        "    def __init__(self, name, age):\n",
        "        self.name = name\n",
        "        self.age = age\n",
        "    def age_compare(self, obj):\n",
        "        if self.age > obj.age:\n",
        "            print(f\"{self.name} is older than {obj.name}\")\n",
        "        elif self.age < obj.age:\n",
        "            print(f\"{obj.name} is older than {self.name}\")\n",
        "        else:\n",
        "            print(f\"{self.name} and {obj.name} are of the same age\")\n",
        "p1 = person(\"joey\",30)\n",
        "p2 = person(\"chandler\",32)\n",
        "p3 = person(\"ross\",31)\n",
        "p1.age_compare(p2)\n",
        "p2.age_compare(p3)\n",
        "p1.age_compare(p3)"
      ],
      "metadata": {
        "colab": {
          "base_uri": "https://localhost:8080/"
        },
        "id": "m_Z-bcibELoY",
        "outputId": "7fe9cb86-02c7-4276-cb73-526b7f15bb68"
      },
      "execution_count": null,
      "outputs": [
        {
          "output_type": "stream",
          "name": "stdout",
          "text": [
            "chandler is older than joey\n",
            "chandler is older than ross\n",
            "ross is older than joey\n"
          ]
        }
      ]
    },
    {
      "cell_type": "code",
      "source": [
        "class plans:\n",
        "  def __init__(self,plan_name,plan_price):\n",
        "    self.plan_name = plan_name\n",
        "    self.plan_price = plan_price\n",
        "  def can_stream():\n",
        "    pass\n",
        "  def can_download():\n",
        "    pass\n",
        "  def has_SD():\n",
        "    pass\n",
        "  def has_HD():\n",
        "    pass\n",
        "  def has_UHD():\n",
        "    pass\n",
        "\n",
        "class basic_plan(plans):\n",
        "  def __init__(self,plan_name,plan_price):\n",
        "    super().__init__(plan_name,plan_price)\n",
        "    self.plan_name = plan_name\n",
        "    self.plan_price = plan_price\n",
        "    self.can_stream = \"yes\"\n",
        "    self.can_download = \"yes\"\n",
        "    self.has_SD = \"yes\"\n",
        "    self.has_HD = \"no\"\n",
        "  def can_stream(self):\n",
        "    print(self.can_stream)\n",
        "  def can_download(self):\n",
        "    print(self.can_download)\n",
        "  def has_SD(self):\n",
        "    print(self.has_SD)\n",
        "  def has_HD(self):\n",
        "    print(self.has_HD)\n",
        "class standard_plan(plans):\n",
        "  def __init__(self,plan_name,plan_price):\n",
        "    super().__init__(plan_name,plan_price)\n",
        "    self.plan_name = plan_name\n",
        "    self.plan_price = plan_price\n",
        "    self.can_stream = \"yes\"\n",
        "    self.can_download = \"yes\"\n",
        "    self.has_SD = \"yes\"\n",
        "    self.has_HD = \"yes\"\n",
        "    self.has_UHD = \"no\"\n",
        "  def can_stream(self):\n",
        "    print(self.can_stream)\n",
        "  def can_download(self):\n",
        "    print(self.can_download)\n",
        "  def has_SD(self):\n",
        "    print(self.has_SD)\n",
        "  def has_HD(self):\n",
        "    print(self.has_HD)\n",
        "class premium_plan(plans):\n",
        "  def __init__(self,plan_name,plan_price):\n",
        "    super().__init__(plan_name,plan_price)\n",
        "    self.plan_name = plan_name\n",
        "    self.plan_price = plan_price\n",
        "    self.can_stream = \"yes\"\n",
        "    self.can_download = \"yes\"\n",
        "    self.has_SD = \"yes\"\n",
        "    self.has_HD = \"yes\"\n",
        "    self.has_UHD = \"yes\"\n",
        "    if self.plan_price == 8.99:\n",
        "      self.no_of_devices = 1\n",
        "    elif self.plan_price == 12.99:\n",
        "      self.no_of_devices = 2\n",
        "    elif self.plan_price == 15.99:\n",
        "      self.no_of_devices = 4\n",
        "    else:\n",
        "      self.no_of_devices = 0\n",
        "  def can_stream(self):\n",
        "    print(self.can_stream)\n",
        "  def can_download(self):\n",
        "    print(self.can_download)\n",
        "  def has_SD(self):\n",
        "    print(self.has_SD)\n",
        "  def has_HD(self):\n",
        "    print(self.has_HD)\n",
        "  def has_UHD(self):\n",
        "    print(self.has_UHD)\n",
        "  def no_of_devices(self):\n",
        "    print(self.no_of_devices)\n",
        "pl1 = basic_plan(\"basic\",5.99)\n",
        "pl2 = standard_plan(\"standard\",10.99)\n",
        "pl3 = premium_plan(\"premium\",15.99)\n",
        "pl1.can_stream()\n",
        "pl1.can_download()\n",
        "pl1.has_SD()\n",
        "pl1.has_HD()\n",
        "pl1.no_of_devices()"
      ],
      "metadata": {
        "colab": {
          "base_uri": "https://localhost:8080/",
          "height": 219
        },
        "id": "Jt_8DLlrFP-Y",
        "outputId": "3efd420a-d0c5-4d36-c1e7-e8e291875672",
        "collapsed": true
      },
      "execution_count": null,
      "outputs": [
        {
          "output_type": "error",
          "ename": "TypeError",
          "evalue": "'str' object is not callable",
          "traceback": [
            "\u001b[0;31m---------------------------------------------------------------------------\u001b[0m",
            "\u001b[0;31mTypeError\u001b[0m                                 Traceback (most recent call last)",
            "\u001b[0;32m<ipython-input-4-b4477c11c205>\u001b[0m in \u001b[0;36m<cell line: 85>\u001b[0;34m()\u001b[0m\n\u001b[1;32m     83\u001b[0m \u001b[0mpl2\u001b[0m \u001b[0;34m=\u001b[0m \u001b[0mstandard_plan\u001b[0m\u001b[0;34m(\u001b[0m\u001b[0;34m\"standard\"\u001b[0m\u001b[0;34m,\u001b[0m\u001b[0;36m10.99\u001b[0m\u001b[0;34m)\u001b[0m\u001b[0;34m\u001b[0m\u001b[0;34m\u001b[0m\u001b[0m\n\u001b[1;32m     84\u001b[0m \u001b[0mpl3\u001b[0m \u001b[0;34m=\u001b[0m \u001b[0mpremium_plan\u001b[0m\u001b[0;34m(\u001b[0m\u001b[0;34m\"premium\"\u001b[0m\u001b[0;34m,\u001b[0m\u001b[0;36m15.99\u001b[0m\u001b[0;34m)\u001b[0m\u001b[0;34m\u001b[0m\u001b[0;34m\u001b[0m\u001b[0m\n\u001b[0;32m---> 85\u001b[0;31m \u001b[0mpl1\u001b[0m\u001b[0;34m.\u001b[0m\u001b[0mcan_stream\u001b[0m\u001b[0;34m(\u001b[0m\u001b[0;34m)\u001b[0m\u001b[0;34m\u001b[0m\u001b[0;34m\u001b[0m\u001b[0m\n\u001b[0m\u001b[1;32m     86\u001b[0m \u001b[0mpl1\u001b[0m\u001b[0;34m.\u001b[0m\u001b[0mcan_download\u001b[0m\u001b[0;34m(\u001b[0m\u001b[0;34m)\u001b[0m\u001b[0;34m\u001b[0m\u001b[0;34m\u001b[0m\u001b[0m\n\u001b[1;32m     87\u001b[0m \u001b[0mpl1\u001b[0m\u001b[0;34m.\u001b[0m\u001b[0mhas_SD\u001b[0m\u001b[0;34m(\u001b[0m\u001b[0;34m)\u001b[0m\u001b[0;34m\u001b[0m\u001b[0;34m\u001b[0m\u001b[0m\n",
            "\u001b[0;31mTypeError\u001b[0m: 'str' object is not callable"
          ]
        }
      ]
    }
  ]
}