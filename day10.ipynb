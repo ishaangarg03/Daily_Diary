{
  "nbformat": 4,
  "nbformat_minor": 0,
  "metadata": {
    "colab": {
      "provenance": [],
      "include_colab_link": true
    },
    "kernelspec": {
      "name": "python3",
      "display_name": "Python 3"
    },
    "language_info": {
      "name": "python"
    }
  },
  "cells": [
    {
      "cell_type": "markdown",
      "metadata": {
        "id": "view-in-github",
        "colab_type": "text"
      },
      "source": [
        "<a href=\"https://colab.research.google.com/github/ishaangarg03/Daily_Diary/blob/main/day10.ipynb\" target=\"_parent\"><img src=\"https://colab.research.google.com/assets/colab-badge.svg\" alt=\"Open In Colab\"/></a>"
      ]
    },
    {
      "cell_type": "code",
      "execution_count": null,
      "metadata": {
        "colab": {
          "base_uri": "https://localhost:8080/"
        },
        "id": "D0l5LFaQ1lJ0",
        "outputId": "4edb8cea-4c33-4570-bc5d-d4f05ddc0f9e"
      },
      "outputs": [
        {
          "output_type": "stream",
          "name": "stdout",
          "text": [
            "1000\n",
            "123\n",
            "abc\n",
            "2000\n",
            "1234\n",
            "xyz\n"
          ]
        }
      ],
      "source": [
        "# oops\n",
        "# abstraction and encapsulation\n",
        "class BankAccount:\n",
        "  def __init__(self,account_number, account_holder, balance):\n",
        "    self.__account_number = account_number\n",
        "    self.__account_holder = account_holder\n",
        "    self.__balance = balance\n",
        "    print(self.__balance)\n",
        "  def show_balance():\n",
        "    print(\"balance is\",self.__balance)\n",
        "  def get_account_number(self):\n",
        "    return self.__account_number\n",
        "  def get_account_holder(self):\n",
        "    return self.__account_holder\n",
        "  def set_account_number(self,account_number):\n",
        "    self.__account_number = account_number\n",
        "  def set_account_holder(self,account_holder):\n",
        "    self.__account_holder = account_holder\n",
        "  def set_balance(self,balance):\n",
        "    if balance < 0:\n",
        "      print(\"balance can't be negative\")\n",
        "    else:\n",
        "      self.__balance = balance\n",
        "  def get_balance(self):\n",
        "    return self.__balance\n",
        "obj1 = BankAccount(123, \"abc\", 1000)\n",
        "print(obj1.get_account_number())\n",
        "print(obj1.get_account_holder())\n",
        "obj1.set_account_number(1234)\n",
        "obj1.set_account_holder(\"xyz\")\n",
        "obj1.set_balance(2000)\n",
        "print(obj1.get_balance())\n",
        "print(obj1.get_account_number())\n",
        "print(obj1.get_account_holder())"
      ]
    },
    {
      "cell_type": "code",
      "source": [
        "# question 2\n",
        "class Student:\n",
        "  def __init__(self, name, age, grade):\n",
        "    self.__name = name\n",
        "    self.__age = age\n",
        "    self.__grade = grade\n",
        "  def get_name(self):\n",
        "    return self.__name\n",
        "  def get_age(self):\n",
        "    return self.__age\n",
        "  def get_grade(self):\n",
        "    return self.__grade\n",
        "  def set_name(self,name):\n",
        "    self.__name = name\n",
        "  def set_age(self,age):\n",
        "    self.__age = age\n",
        "  def set_grade(self,grade):\n",
        "    self.__grade = grade\n",
        "obj2 = Student(\"abc\", 12, \"A\")\n",
        "print(obj2.get_name())\n",
        "print(obj2.get_age())\n",
        "print(obj2.get_grade())\n",
        "obj2.set_name(\"xyz\")\n",
        "obj2.set_age(13)\n",
        "obj2.set_grade(\"B\")\n",
        "print(obj2.get_name())\n",
        "print(obj2.get_age())\n",
        "print(obj2.get_grade())"
      ],
      "metadata": {
        "id": "3C-IffEE9gQg",
        "colab": {
          "base_uri": "https://localhost:8080/"
        },
        "outputId": "fabe310b-c027-455f-c79a-2f1f4e22485d"
      },
      "execution_count": null,
      "outputs": [
        {
          "output_type": "stream",
          "name": "stdout",
          "text": [
            "abc\n",
            "12\n",
            "A\n",
            "xyz\n",
            "13\n",
            "B\n"
          ]
        }
      ]
    },
    {
      "cell_type": "code",
      "source": [
        "# practice question\n",
        "# question 1\n",
        "class Book:\n",
        "  def __init__(self,title,author,isbn):\n",
        "    self.__title = title\n",
        "    self.__author = author\n",
        "    self.__isbn = isbn\n",
        "  def get_title(self):\n",
        "    return self.__title\n",
        "  def get_author(self):\n",
        "    return self.__author\n",
        "  def get_isbn(self):\n",
        "    return self.__isbn\n",
        "  def set_title(self,title):\n",
        "    self.__title = title\n",
        "  def set_author(self,author):\n",
        "    self.__author = author\n",
        "  def set_isbn(self,isbn):\n",
        "    self.__isbn = isbn\n",
        "class Library:\n",
        "  books = []\n",
        "  def __init__(self):\n",
        "    pass\n",
        "  def list_of_books(self):\n",
        "    return self.books\n",
        "  def add_book(self,book):\n",
        "    self.books.append(book)\n",
        "  def remove_book(self,book):\n",
        "    for b in self.books:\n",
        "      if b.get_isbn() == book.get_isbn():\n",
        "        self.books.remove(b)\n",
        "obj1 = Book(\"book1\",\"author1\",123)\n",
        "obj2 = Book(\"book2\",\"author2\",456)\n",
        "obj3 = Book(\"book3\",\"author3\",789)\n",
        "obj4 = Library()\n",
        "obj4.add_book(obj1)\n",
        "obj4.add_book(obj2)\n",
        "obj4.add_book(obj3)\n",
        "obj4.list_of_books()\n",
        "# obj4.remove_book(obj2)\n",
        "# print(obj4.books)\n",
        "# print(obj4.books[0].get_title())\n",
        "\n",
        "\n"
      ],
      "metadata": {
        "colab": {
          "base_uri": "https://localhost:8080/"
        },
        "id": "DMW9vKB6Bfho",
        "outputId": "20bdeece-f79a-49d8-c99b-c5a61182811c"
      },
      "execution_count": null,
      "outputs": [
        {
          "output_type": "execute_result",
          "data": {
            "text/plain": [
              "[<__main__.Book at 0x7e8035efd8a0>,\n",
              " <__main__.Book at 0x7e80350b2200>,\n",
              " <__main__.Book at 0x7e80350b21a0>]"
            ]
          },
          "metadata": {},
          "execution_count": 3
        }
      ]
    },
    {
      "cell_type": "code",
      "source": [
        "\n",
        "class Book:\n",
        "    def __init__(self, title, author, isbn):\n",
        "        self.__title = title\n",
        "        self.__author = author\n",
        "        self.__isbn = isbn\n",
        "\n",
        "    def get_title(self):\n",
        "        return self.__title\n",
        "\n",
        "    def get_author(self):\n",
        "        return self.__author\n",
        "\n",
        "    def get_isbn(self):\n",
        "        return self.__isbn\n",
        "\n",
        "    def set_title(self, title):\n",
        "        self.__title = title\n",
        "\n",
        "    def set_author(self, author):\n",
        "        self.__author = author\n",
        "\n",
        "    def set_isbn(self, isbn):\n",
        "        self.__isbn = isbn\n",
        "\n",
        "class Library:\n",
        "    books = []\n",
        "\n",
        "    def __init__(self):\n",
        "        pass\n",
        "\n",
        "    def list_of_books(self):\n",
        "        for book in self.books:\n",
        "            print(f'Title: {book.get_title()}, Author: {book.get_author()}, ISBN: {book.get_isbn()}')\n",
        "\n",
        "    def add_book(self, book):\n",
        "        self.books.append(book)\n",
        "\n",
        "    def remove_book(self, book):\n",
        "        for b in self.books:\n",
        "            if b.get_isbn() == book.get_isbn():\n",
        "                self.books.remove(b)\n",
        "\n",
        "obj1 = Book(\"book1\", \"author1\", 123)\n",
        "obj2 = Book(\"book2\", \"author2\", 456)\n",
        "obj3 = Book(\"book3\", \"author3\", 789)\n",
        "obj4 = Library()\n",
        "obj4.add_book(obj1)\n",
        "obj4.add_book(obj2)\n",
        "obj4.add_book(obj3)\n",
        "\n",
        "obj4.list_of_books()"
      ],
      "metadata": {
        "colab": {
          "base_uri": "https://localhost:8080/"
        },
        "id": "rvpNFZjBTPnK",
        "outputId": "6600a9ab-2f9b-4c34-b02a-87c9504c3cd5"
      },
      "execution_count": null,
      "outputs": [
        {
          "output_type": "stream",
          "name": "stdout",
          "text": [
            "Title: book1, Author: author1, ISBN: 123\n",
            "Title: book2, Author: author2, ISBN: 456\n",
            "Title: book3, Author: author3, ISBN: 789\n"
          ]
        }
      ]
    },
    {
      "cell_type": "code",
      "source": [
        "# inheritence\n",
        "class Device:\n",
        "  def __init__(self,device_id,device_name):\n",
        "    self.__device_id = device_id\n",
        "    self.__device_name = device_name\n",
        "  def turn_on(self):\n",
        "    print(\"device is on\")\n",
        "  def turn_off(self):\n",
        "    print(\"device is off\")\n",
        "class Light(Device):\n",
        "  def __init__(self,device_id,device_name,brightness, color):\n",
        "    super().__init__(device_id,device_name)\n",
        "    self.__brightness = brightness\n",
        "    self.__color = color\n",
        "  def set_brightness(self,brightness):\n",
        "    self.__brightness = brightness\n",
        "  def set_color(self,color):\n",
        "    self.__color = color\n",
        "class Thermostat(Device):\n",
        "  def __init__(self,device_id,device_name,temperature):\n",
        "    super().__init__(device_id,device_name)\n",
        "    self.__temperature = temperature\n",
        "  def set_temperature(self,temperature):\n",
        "    self.__temperature = temperature\n",
        "class security_camera(Device):\n",
        "  def __init__(self,device_id,device_name,resolution):\n",
        "    super().__init__(device_id,device_name)\n",
        "    self.__resolution = resolution\n",
        "  def set_resolution(self,resolution):\n",
        "    self.__resolution = resolution\n",
        "  def record_video(self):\n",
        "    print(\"video is recorded\")\n",
        "obj1 = Light(1,\"light\",100,\"red\")\n",
        "obj2 = Thermostat(2,\"thermostat\",20)\n",
        "obj3 = security_camera(3,\"camera\",1080)\n",
        "obj1.turn_on()\n",
        "obj2.turn_on()\n",
        "obj3.turn_on()\n"
      ],
      "metadata": {
        "colab": {
          "base_uri": "https://localhost:8080/"
        },
        "id": "1p_EcfodLWu9",
        "outputId": "350b87fe-b743-42e8-aa73-5f44efd3aab5"
      },
      "execution_count": null,
      "outputs": [
        {
          "output_type": "stream",
          "name": "stdout",
          "text": [
            "device is on\n",
            "device is on\n",
            "device is on\n"
          ]
        }
      ]
    },
    {
      "cell_type": "code",
      "source": [
        "# question 6\n",
        "class Car:\n",
        "  def __init__(self,make,model,availability):\n",
        "    self.__make = make\n",
        "    self.__model = model\n",
        "    self.__availability = availability\n",
        "  def get_availability(self):\n",
        "    return self.__availability\n",
        "  def set_availability(self,availability):\n",
        "    self.__availability = True or False\n",
        "  def get_make(self):\n",
        "    return self.__make\n",
        "  def get_model(self):\n",
        "    return self.__model\n",
        "  def set_make(self,make):\n",
        "    self.__make = make\n",
        "  def set_model(self,model):\n",
        "    self.__model = model\n",
        "class CarRental:\n",
        "  def __init__(self):\n",
        "    self.__cars = []\n",
        "  def add_car(self,car):\n",
        "    self.__cars.append(car)\n",
        "  def remove_car(self,model):\n",
        "    for car in self.__cars:\n",
        "      if car.get_model() == model:\n",
        "        self.__cars.remove(car)\n",
        "  def list_of_cars(self):\n",
        "    for car in self.__cars:\n",
        "      print(f'Make: {car.get_make()}, Model: {car.get_model()}, Availability: {car.get_availability()}')\n",
        "obj1 = Car(\"make1\",\"model1\",True)\n",
        "obj2 = Car(\"make2\",\"model2\",False)\n",
        "obj3 = Car(\"make3\",\"model3\",True)\n",
        "obj4 = CarRental()\n",
        "obj4.add_car(obj1)\n",
        "obj4.add_car(obj2)\n",
        "obj4.add_car(obj3)\n",
        "obj4.list_of_cars()\n",
        "\n"
      ],
      "metadata": {
        "id": "AdezZCozLcEQ",
        "colab": {
          "base_uri": "https://localhost:8080/"
        },
        "outputId": "4c8e42c5-76b0-4d55-935e-a4b168debf15"
      },
      "execution_count": null,
      "outputs": [
        {
          "output_type": "stream",
          "name": "stdout",
          "text": [
            "Make: make1, Model: model1, Availability: True\n",
            "Make: make2, Model: model2, Availability: False\n",
            "Make: make3, Model: model3, Availability: True\n"
          ]
        }
      ]
    },
    {
      "cell_type": "code",
      "source": [
        "class Student:\n",
        "    def __init__(self, student_id, name, courses=None):\n",
        "        if courses is None:\n",
        "            courses = []\n",
        "        self.__student_id = student_id\n",
        "        self.__name = name\n",
        "        self.__courses = courses\n",
        "\n",
        "    # Getters\n",
        "    def get_student_id(self):\n",
        "        return self.__student_id\n",
        "\n",
        "    def get_name(self):\n",
        "        return self.__name\n",
        "\n",
        "    def get_courses(self):\n",
        "        return self.__courses\n",
        "\n",
        "    # Setters\n",
        "    def set_name(self, name):\n",
        "        self.__name = name\n",
        "\n",
        "    def set_courses(self, courses):\n",
        "        self.__courses = courses\n",
        "\n",
        "    def add_course(self, course):\n",
        "        if course not in self.__courses:\n",
        "            self.__courses.append(course)\n",
        "\n",
        "    def remove_course(self, course):\n",
        "        if course in self.__courses:\n",
        "            self.__courses.remove(course)\n",
        "\n",
        "class School:\n",
        "    def __init__(self):\n",
        "        self.__students = []\n",
        "\n",
        "    def add_student(self, student):\n",
        "        self.__students.append(student)\n",
        "\n",
        "    def remove_student(self, student_id):\n",
        "        self.__students = [student for student in self.__students if student.get_student_id() != student_id]\n",
        "\n",
        "    def list_students(self):\n",
        "        return self.__students\n",
        "\n",
        "    def get_student_by_id(self, student_id):\n",
        "        for student in self.__students:\n",
        "            if student.get_student_id() == student_id:\n",
        "                return student\n",
        "        return None\n",
        "\n",
        "    def list_students_and_courses(self):\n",
        "        return [(student.get_name(), student.get_courses()) for student in self.__students]\n",
        "\n",
        "# Example usage\n",
        "if __name__ == \"__main__\":\n",
        "    student1 = Student(1, \"Alice\", [\"Math\", \"Science\"])\n",
        "    student2 = Student(2, \"Bob\", [\"History\"])\n",
        "    student3 = Student(3, \"Charlie\", [\"Math\", \"Art\"])\n",
        "\n",
        "    school = School()\n",
        "    school.add_student(student1)\n",
        "    school.add_student(student2)\n",
        "    school.add_student(student3)\n",
        "\n",
        "    print(\"Students and their courses:\")\n",
        "    for name, courses in school.list_students_and_courses():\n",
        "        print(f\"{name}: {', '.join(courses)}\")\n",
        "\n",
        "    school.remove_student(2)\n",
        "    print(\"\\nAfter removing student with ID 2:\")\n",
        "    for name, courses in school.list_students_and_courses():\n",
        "        print(f\"{name}: {', '.join(courses)}\")\n"
      ],
      "metadata": {
        "id": "4gLrSlemGPzr",
        "colab": {
          "base_uri": "https://localhost:8080/"
        },
        "outputId": "d9ee28c7-370c-4adc-cc5a-b7370e565ed2"
      },
      "execution_count": null,
      "outputs": [
        {
          "output_type": "stream",
          "name": "stdout",
          "text": [
            "Students and their courses:\n",
            "Alice: Math, Science\n",
            "Bob: History\n",
            "Charlie: Math, Art\n",
            "\n",
            "After removing student with ID 2:\n",
            "Alice: Math, Science\n",
            "Charlie: Math, Art\n"
          ]
        }
      ]
    }
  ]
}