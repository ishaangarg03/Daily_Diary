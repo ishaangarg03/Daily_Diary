{
  "nbformat": 4,
  "nbformat_minor": 0,
  "metadata": {
    "colab": {
      "provenance": [],
      "include_colab_link": true
    },
    "kernelspec": {
      "name": "python3",
      "display_name": "Python 3"
    },
    "language_info": {
      "name": "python"
    }
  },
  "cells": [
    {
      "cell_type": "markdown",
      "metadata": {
        "id": "view-in-github",
        "colab_type": "text"
      },
      "source": [
        "<a href=\"https://colab.research.google.com/github/ishaangarg03/Daily_Diary/blob/main/Day11.ipynb\" target=\"_parent\"><img src=\"https://colab.research.google.com/assets/colab-badge.svg\" alt=\"Open In Colab\"/></a>"
      ]
    },
    {
      "cell_type": "code",
      "execution_count": null,
      "metadata": {
        "colab": {
          "base_uri": "https://localhost:8080/"
        },
        "id": "hOnKGJkEAGSl",
        "outputId": "711152a3-7044-4737-d7cc-e6ee6ea78a68"
      },
      "outputs": [
        {
          "output_type": "stream",
          "name": "stdout",
          "text": [
            "Drawing a circle\n",
            "Drawing a rectangle\n",
            "Drawing a triangle\n",
            "Drawing a square\n"
          ]
        }
      ],
      "source": [
        "# polymorphism\n",
        "# question 1\n",
        "class Shape:\n",
        "  def draw(self):\n",
        "    return \"Drawing a shape\"\n",
        "\n",
        "class Circle(Shape):\n",
        "  def draw(self):\n",
        "    return \"Drawing a circle\"\n",
        "\n",
        "class Rectangle(Shape):\n",
        "  def draw(self):\n",
        "    return \"Drawing a rectangle\"\n",
        "\n",
        "class Triangle(Shape):\n",
        "  def draw(self):\n",
        "    return \"Drawing a triangle\"\n",
        "class Square(Shape):\n",
        "  def draw(self):\n",
        "    return \"Drawing a square\"\n",
        "\n",
        "shapes = [Circle(), Rectangle(), Triangle(), Square()]\n",
        "for shape in shapes:\n",
        "  print(shape.draw())\n",
        "\n"
      ]
    },
    {
      "cell_type": "code",
      "source": [
        "# question 2\n",
        "class Animal:\n",
        "  def make_sound(self):\n",
        "    return \"making sound\"\n",
        "\n",
        "class Dog:\n",
        "  def make_sound(self):\n",
        "    return \"barking\"\n",
        "\n",
        "class Cat:\n",
        "  def make_sound(self):\n",
        "    return \"meowing\"\n",
        "\n",
        "animals = [Dog(), Cat()]\n",
        "for animal in animals:\n",
        "  print(animal.make_sound())"
      ],
      "metadata": {
        "colab": {
          "base_uri": "https://localhost:8080/"
        },
        "id": "Q-rK-dROHh-o",
        "outputId": "844c7db3-b662-4b93-fa60-b29c04860e10"
      },
      "execution_count": null,
      "outputs": [
        {
          "output_type": "stream",
          "name": "stdout",
          "text": [
            "barking\n",
            "meowing\n"
          ]
        }
      ]
    },
    {
      "cell_type": "code",
      "source": [
        "# question 3\n",
        "class Vehicle:\n",
        "  def drive(self):\n",
        "    return \"driving\"\n",
        "\n",
        "class Car(Vehicle):\n",
        "  def drive(self):\n",
        "    return \"driving a car\"\n",
        "\n",
        "class Truck(Vehicle):\n",
        "  def drive(self):\n",
        "    return \"Driving a Truck\"\n",
        "\n",
        "class Motorcycle(Vehicle):\n",
        "  def drive(self):\n",
        "    return \"Driving a Motorcycle\"\n",
        "\n",
        "vehicles = [Car(), Truck(), Motorcycle()]\n",
        "for vehicle in vehicles:\n",
        "  print(vehicle.drive())"
      ],
      "metadata": {
        "colab": {
          "base_uri": "https://localhost:8080/"
        },
        "id": "CIQAP6TOHyyR",
        "outputId": "ac20eec5-d16f-4f13-bfe2-a08afb4c35e3"
      },
      "execution_count": null,
      "outputs": [
        {
          "output_type": "stream",
          "name": "stdout",
          "text": [
            "driving a car\n",
            "Driving a Truck\n",
            "Driving a Motorcycle\n"
          ]
        }
      ]
    },
    {
      "cell_type": "code",
      "source": [
        "# question 5\n",
        "class Sortable:\n",
        "  def sort_keys(self):\n",
        "    return 0\n",
        "\n",
        "class Student(Sortable):\n",
        "  def __init__(self, name, age, grade):\n",
        "    self.name = name\n",
        "    self.age = age\n",
        "    self.grade = grade\n",
        "  def sort_keys(self):\n",
        "    return self.name, self.age, self.grade\n",
        "class Teacher(Sortable):\n",
        "  def __init__(self, name, age, subject):\n",
        "    self.name = name\n",
        "    self.age = age\n",
        "    self.subject = subject\n",
        "  def sort_keys(self):\n",
        "    return self.name, self.age, self.subject\n",
        "class Course(Sortable):\n",
        "  def __init__(self, name, students, teachers):\n",
        "    self.name = name\n",
        "    self.students = students\n",
        "    self.teachers = teachers\n",
        "  def sort_keys(self):\n",
        "    return self.name, self.students, self.teachers\n",
        "students = [\n",
        "    Student(\"Alice\", 18, 12),\n",
        "    Student(\"Bob\", 17, 11),\n",
        "    Student(\"Charlie\", 18, 10)\n",
        "]\n",
        "\n",
        "sorted_students = sorted(students, key=Student.sort_keys)\n",
        "# print(obj3.sort_keys())\n",
        "for student in sorted_students:\n",
        "  print(student.sort_keys())"
      ],
      "metadata": {
        "colab": {
          "base_uri": "https://localhost:8080/"
        },
        "id": "Frv8huziLowD",
        "outputId": "ab8d7b4a-7b43-4244-a720-d79e29fbc479"
      },
      "execution_count": null,
      "outputs": [
        {
          "output_type": "stream",
          "name": "stdout",
          "text": [
            "('Alice', 18, 12)\n",
            "('Bob', 17, 11)\n",
            "('Charlie', 18, 10)\n"
          ]
        }
      ]
    },
    {
      "cell_type": "code",
      "source": [
        "# question 6\n",
        "from abc import ABC, abstractmethod\n",
        "\n",
        "class Shape(ABC):\n",
        "    @abstractmethod\n",
        "    def calculate_area(self):\n",
        "        pass\n",
        "\n",
        "class Rectangle(Shape):\n",
        "    def __init__(self, length, width):\n",
        "        self.length = length\n",
        "        self.width = width\n",
        "\n",
        "    def calculate_area(self):\n",
        "        return self.length * self.width\n",
        "\n",
        "class Circle(Shape):\n",
        "    def __init__(self, radius):\n",
        "        self.radius = radius\n",
        "\n",
        "    def calculate_area(self):\n",
        "        return 3.14 * self.radius * self.radius\n",
        "\n",
        "class Triangle(Shape):\n",
        "    def __init__(self, base, height):\n",
        "        self.base = base\n",
        "        self.height = height\n",
        "\n",
        "    def calculate_area(self):\n",
        "        return 0.5 * self.base * self.height\n",
        "obj1 = Rectangle(5, 3)\n",
        "obj2 = Circle(4)\n",
        "obj3 = Triangle(3, 4)\n",
        "print(obj1.calculate_area())\n",
        "print(obj2.calculate_area())\n",
        "print(obj3.calculate_area())"
      ],
      "metadata": {
        "colab": {
          "base_uri": "https://localhost:8080/"
        },
        "id": "nyq1GX0eP0P0",
        "outputId": "68d81c23-39ed-4642-f12d-2732f736d70e"
      },
      "execution_count": null,
      "outputs": [
        {
          "output_type": "stream",
          "name": "stdout",
          "text": [
            "15\n",
            "50.24\n",
            "6.0\n"
          ]
        }
      ]
    },
    {
      "cell_type": "code",
      "source": [
        "# Random Module\n",
        "# question 1\n",
        "import random\n",
        "uppercase = 'ABCDEFGHIJKLMNOPQRSTUVWXYZ'\n",
        "lowercase = 'abcdefghijklmnopqrstuvwxyz'\n",
        "special_characters = '!@#$%^&*()_+{}[]:;<>?/'\n",
        "numbers = '0123456789'\n",
        "def password_generator(len):\n",
        "  print(\"length of the password is\",len)\n",
        "  password = \"\"\n",
        "  for i in range(len):\n",
        "    char = random.choice(uppercase + lowercase + special_characters + numbers)\n",
        "    password += char\n",
        "  password = list(password)\n",
        "  random.shuffle(password)\n",
        "  password = ''.join(password)\n",
        "  return password\n",
        "print(password_generator(10))\n",
        "# print(len(password_generator))"
      ],
      "metadata": {
        "colab": {
          "base_uri": "https://localhost:8080/"
        },
        "id": "tMybkzzoSrFa",
        "outputId": "1507bf2a-a099-417b-8dcb-64f2e6c68d6f"
      },
      "execution_count": null,
      "outputs": [
        {
          "output_type": "stream",
          "name": "stdout",
          "text": [
            "0.5714025946899135\n",
            "7\n"
          ]
        }
      ]
    },
    {
      "cell_type": "code",
      "source": [
        "# question 2\n",
        "import random\n",
        "\n",
        "def count_sevens():\n",
        "  count = 0\n",
        "  for _ in range(100):\n",
        "    dice1 = random.randint(1, 6)\n",
        "    dice2 = random.randint(1, 6)\n",
        "    if dice1 + dice2 == 7:\n",
        "      count += 1\n",
        "  return count\n",
        "\n",
        "result = count_sevens()\n",
        "print(\"The number of times the sum of two dice is equal to 7 is:\", result)"
      ],
      "metadata": {
        "id": "aIAjf8zYwRbt"
      },
      "execution_count": null,
      "outputs": []
    },
    {
      "cell_type": "code",
      "source": [
        "# question 4\n",
        "import random\n",
        "quotes = ['hey','how', 'are', 'you']\n",
        "def random_quote():\n",
        "  quote = random.choice(quotes)\n",
        "  return quote\n",
        "print(random_quote())"
      ],
      "metadata": {
        "id": "zI4hxoS9wUkY"
      },
      "execution_count": null,
      "outputs": []
    },
    {
      "cell_type": "code",
      "source": [
        "# question 5\n",
        "import random\n",
        "genre = [\"comedy\",\"horror\",\"action\",\"thriller\",\"scifi\"]\n",
        "def random_genre():\n",
        "  genre = random.choice(genre)\n",
        "  return genre\n",
        "comedy = [\"a\",\"b\",\"c\",\"d\",\"e\"]\n",
        "horror = [\"f\",\"g\",\"h\",\"i\",\"j\"]\n",
        "action = [\"k\",\"l\",\"m\",\"n\",\"o\"]\n",
        "thriller = [\"p\",\"q\",\"r\",\"s\",\"t\"]\n",
        "scifi = [\"u\",\"v\",\"w\",\"x\",\"y\"]\n",
        "if genre == \"comedy\":\n",
        "  m = random.choice(comedy)\n",
        "  print(m)\n"
      ],
      "metadata": {
        "id": "zpWp2jOuwWvF"
      },
      "execution_count": null,
      "outputs": []
    },
    {
      "cell_type": "code",
      "source": [
        "# question 6\n",
        "import random\n",
        "head = 0\n",
        "tail = 0\n",
        "for i in range(1000):\n",
        "  coin = random.randint(0, 1)\n",
        "  if coin == 1:\n",
        "    head += 1\n",
        "  else:\n",
        "    tail += 1\n",
        "print(\"head\",head)\n",
        "print(\"tail\",tail)"
      ],
      "metadata": {
        "colab": {
          "base_uri": "https://localhost:8080/"
        },
        "id": "E0JUHncQw6wN",
        "outputId": "05af65f4-d5c2-4d73-fed5-af028187f33f"
      },
      "execution_count": null,
      "outputs": [
        {
          "output_type": "stream",
          "name": "stdout",
          "text": [
            "head 487\n",
            "tail 513\n"
          ]
        }
      ]
    },
    {
      "cell_type": "code",
      "source": [
        "# question 8\n",
        "import random\n",
        "cards = [\"A\",\"2\",\"3\",\"4\",\"5\",\"6\",\"7\",\"8\",\"9\",\"10\",\"J\",\"Q\",\"K\"]*4\n",
        "def distribute_cards():\n",
        "  for i in range(5):\n",
        "    card = random.choice(cards)\n",
        "    print(card)\n",
        "print(\"player 1\")\n",
        "player1=distribute_cards()\n",
        "print(\"player 2\")\n",
        "player2=distribute_cards()\n",
        "print(\"player 3\")\n",
        "player3=distribute_cards()\n",
        "print(\"player 4\")\n",
        "player4=distribute_cards()\n"
      ],
      "metadata": {
        "colab": {
          "base_uri": "https://localhost:8080/"
        },
        "id": "Juj-JypWxb-w",
        "outputId": "f8b9fdcf-b584-4a86-f957-4f57b0423d4f"
      },
      "execution_count": null,
      "outputs": [
        {
          "output_type": "stream",
          "name": "stdout",
          "text": [
            "player 1\n",
            "K\n",
            "6\n",
            "9\n",
            "J\n",
            "9\n",
            "player 2\n",
            "Q\n",
            "J\n",
            "A\n",
            "4\n",
            "K\n",
            "player 3\n",
            "2\n",
            "A\n",
            "Q\n",
            "Q\n",
            "2\n",
            "player 4\n",
            "Q\n",
            "6\n",
            "4\n",
            "6\n",
            "9\n"
          ]
        }
      ]
    },
    {
      "cell_type": "code",
      "source": [
        "# question 9\n",
        "import random\n",
        "def generate_alpha_numeric_string(length):\n",
        "  characters = \"abcdefghijklmnopqrstuvwxyzABCDEFGHIJKLMNOPQRSTUVWXYZ0123456789\"\n",
        "  anstring = ''\n",
        "  for i in range(length):\n",
        "    char = random.choice(characters)\n",
        "    anstring += char\n",
        "  return anstring\n",
        "\n",
        "print(generate_alpha_numeric_string(10))"
      ],
      "metadata": {
        "colab": {
          "base_uri": "https://localhost:8080/"
        },
        "id": "DQfCERtbyeGx",
        "outputId": "2b2fca00-870d-40a6-96e7-9f39e5caf072"
      },
      "execution_count": null,
      "outputs": [
        {
          "output_type": "stream",
          "name": "stdout",
          "text": [
            "lTPUSmwcNZ\n"
          ]
        }
      ]
    },
    {
      "cell_type": "code",
      "source": [
        "# question 16\n",
        "import random\n",
        "def generate_phone_number():\n",
        "  first_part = str(random.randint(100, 999))\n",
        "  second_part = str(random.randint(100, 999))\n",
        "  third_part = str(random.randint(1000, 9999))\n",
        "  return \"(\"+first_part+\") \"+second_part+\"-\"+third_part\n",
        "print(generate_phone_number())"
      ],
      "metadata": {
        "colab": {
          "base_uri": "https://localhost:8080/"
        },
        "id": "3IVo0T-C0bM7",
        "outputId": "6186187f-7aba-44a7-f5a7-244e358c9cbe"
      },
      "execution_count": null,
      "outputs": [
        {
          "output_type": "stream",
          "name": "stdout",
          "text": [
            "(562) 576-1143\n"
          ]
        }
      ]
    }
  ]
}