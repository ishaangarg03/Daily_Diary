{
  "nbformat": 4,
  "nbformat_minor": 0,
  "metadata": {
    "colab": {
      "provenance": [],
      "include_colab_link": true
    },
    "kernelspec": {
      "name": "python3",
      "display_name": "Python 3"
    },
    "language_info": {
      "name": "python"
    }
  },
  "cells": [
    {
      "cell_type": "markdown",
      "metadata": {
        "id": "view-in-github",
        "colab_type": "text"
      },
      "source": [
        "<a href=\"https://colab.research.google.com/github/ishaangarg03/Daily_Diary/blob/main/Day_5.ipynb\" target=\"_parent\"><img src=\"https://colab.research.google.com/assets/colab-badge.svg\" alt=\"Open In Colab\"/></a>"
      ]
    },
    {
      "cell_type": "code",
      "execution_count": null,
      "metadata": {
        "id": "TqJgwhbycd8y",
        "colab": {
          "base_uri": "https://localhost:8080/"
        },
        "outputId": "563b893d-394a-41e3-9555-af4d2542b716"
      },
      "outputs": [
        {
          "output_type": "stream",
          "name": "stdout",
          "text": [
            "enter your age: 20\n",
            "You are an adult\n"
          ]
        }
      ],
      "source": [
        "#11/06\n",
        "# conditional statements\n",
        "# question 1\n",
        "age  = int(input(\"enter your age: \"))\n",
        "if age > 18:\n",
        "  print(\"You are an adult\")\n",
        "else:\n",
        "  print(\"you are minor\")\n"
      ]
    },
    {
      "cell_type": "code",
      "source": [
        "# question 2\n",
        "temperature = int(input(\"enter the temperature: \"))\n",
        "if temperature > 0:\n",
        "  print(\"It is a hot day\")\n",
        "elif temperature < 0:\n",
        "  print(\"It is a cold day\")"
      ],
      "metadata": {
        "id": "9t8h33UThbZ0",
        "colab": {
          "base_uri": "https://localhost:8080/"
        },
        "outputId": "7d23c303-c68a-4754-e2af-2c11697c09a7"
      },
      "execution_count": null,
      "outputs": [
        {
          "output_type": "stream",
          "name": "stdout",
          "text": [
            "enter the temperature: 42\n",
            "It is a hot day\n"
          ]
        }
      ]
    },
    {
      "cell_type": "code",
      "source": [
        "# question 3\n",
        "score = int(input(\"enter the score: \"))\n",
        "if score >= 90:\n",
        "  print(\"A\")\n",
        "elif score >= 80 & score<90:\n",
        "  print(\"B\")\n",
        "\n",
        "else:\n",
        "  print(\"C\")"
      ],
      "metadata": {
        "id": "Nb5VGD9Wh16g",
        "colab": {
          "base_uri": "https://localhost:8080/"
        },
        "outputId": "db88e2d0-9931-40c0-abf9-f71255778164"
      },
      "execution_count": null,
      "outputs": [
        {
          "output_type": "stream",
          "name": "stdout",
          "text": [
            "enter the score: 85\n",
            "B\n"
          ]
        }
      ]
    },
    {
      "cell_type": "code",
      "source": [
        "# question 4\n",
        "a = int(input(\"enter a number: \"))\n",
        "b = int(input(\"enter a number: \"))\n",
        "if a== b:\n",
        "  print(\"a and b are equal\")\n",
        "else:\n",
        "  print(\"a and b are not equal\")"
      ],
      "metadata": {
        "id": "32zgIiYYiWq3",
        "colab": {
          "base_uri": "https://localhost:8080/"
        },
        "outputId": "fbb08a61-aa33-4860-f954-558396fb89a6"
      },
      "execution_count": null,
      "outputs": [
        {
          "output_type": "stream",
          "name": "stdout",
          "text": [
            "enter a number: 10\n",
            "enter a number: 10\n",
            "a and b are equal\n"
          ]
        }
      ]
    },
    {
      "cell_type": "code",
      "source": [
        "day = input(\"enter a day: \")\n",
        "if day == \"monday\" or day == \"tuesday\" or day == \"wednesday\" or day == \"thursday\" or day == \"friday\":\n",
        "  print(\"It is a weekday\")\n",
        "elif day == \"saturday\" or day == \"sunday\":\n",
        "  print(\"It is a weekend\")"
      ],
      "metadata": {
        "id": "gHEdvo-ajX5u",
        "colab": {
          "base_uri": "https://localhost:8080/"
        },
        "outputId": "3e161505-41c8-4581-ef2c-40a0086ff889"
      },
      "execution_count": null,
      "outputs": [
        {
          "output_type": "stream",
          "name": "stdout",
          "text": [
            "enter a day: monday\n",
            "It is a weekday\n"
          ]
        }
      ]
    },
    {
      "cell_type": "code",
      "source": [
        "# for loop\n",
        "for i in range(1,11):\n",
        "  print(i)"
      ],
      "metadata": {
        "colab": {
          "base_uri": "https://localhost:8080/"
        },
        "id": "wZrDDMW8gmMO",
        "outputId": "92e68286-ff46-4b27-a734-fc35a9815c81"
      },
      "execution_count": null,
      "outputs": [
        {
          "output_type": "stream",
          "name": "stdout",
          "text": [
            "1\n",
            "2\n",
            "3\n",
            "4\n",
            "5\n",
            "6\n",
            "7\n",
            "8\n",
            "9\n",
            "10\n"
          ]
        }
      ]
    },
    {
      "cell_type": "code",
      "source": [
        "for i in range(1,11):\n",
        "  print(i**2)"
      ],
      "metadata": {
        "colab": {
          "base_uri": "https://localhost:8080/"
        },
        "id": "ZJg6cQpHguvO",
        "outputId": "2362f1c1-3e05-4548-a230-f3c5c1a5e0ff"
      },
      "execution_count": null,
      "outputs": [
        {
          "output_type": "stream",
          "name": "stdout",
          "text": [
            "1\n",
            "4\n",
            "9\n",
            "16\n",
            "25\n",
            "36\n",
            "49\n",
            "64\n",
            "81\n",
            "100\n"
          ]
        }
      ]
    },
    {
      "cell_type": "code",
      "source": [
        "list1=[1,2,3,4]\n",
        "for i in list1:\n",
        "  print(i)"
      ],
      "metadata": {
        "id": "e6GB9ZNyg5hz",
        "outputId": "ec3d732c-c716-4e77-94b2-54c6cf8f2b3e",
        "colab": {
          "base_uri": "https://localhost:8080/"
        }
      },
      "execution_count": null,
      "outputs": [
        {
          "output_type": "stream",
          "name": "stdout",
          "text": [
            "1\n",
            "2\n",
            "3\n",
            "4\n"
          ]
        }
      ]
    },
    {
      "cell_type": "code",
      "source": [
        "# loops\n",
        "# question 1\n",
        "children = [\"Child 1\", \"Child 2\", \"Child 3\", \"Child 4\", \"Child 5\"]\n",
        "\n",
        "for i in range(len(children)):\n",
        "  candies = int(input(f\"enter the number of candies for {children[i]}: \"))\n",
        "  print(f\"{children[i]} receives {candies} candies\")"
      ],
      "metadata": {
        "colab": {
          "base_uri": "https://localhost:8080/"
        },
        "id": "scngBVznt7GR",
        "outputId": "d0322a38-193d-4e53-eeec-d77e2d121227"
      },
      "execution_count": null,
      "outputs": [
        {
          "output_type": "stream",
          "name": "stdout",
          "text": [
            "enter the number of candies for Child 1: 9\n",
            "Child 1 receives 9 candies\n",
            "enter the number of candies for Child 2: 80\n",
            "Child 2 receives 80 candies\n",
            "enter the number of candies for Child 3: 1\n",
            "Child 3 receives 1 candies\n",
            "enter the number of candies for Child 4: 1\n",
            "Child 4 receives 1 candies\n",
            "enter the number of candies for Child 5: 1\n",
            "Child 5 receives 1 candies\n"
          ]
        }
      ]
    },
    {
      "cell_type": "code",
      "source": [
        "# question 2\n",
        "  str1 = \"hey how. you doin.\"\n",
        "index = 0\n",
        "\n",
        "while index < len(str1):\n",
        "  if str1[index] == \".\":\n",
        "    break\n",
        "  else:\n",
        "    print(str1[index])\n",
        "  index += 1\n"
      ],
      "metadata": {
        "colab": {
          "base_uri": "https://localhost:8080/"
        },
        "id": "Rh7yWN-Kxvvr",
        "outputId": "6572f364-d3d9-45fd-84c8-b7aaab43edab"
      },
      "execution_count": null,
      "outputs": [
        {
          "output_type": "stream",
          "name": "stdout",
          "text": [
            "h\n",
            "e\n",
            "y\n",
            " \n",
            "h\n",
            "o\n",
            "w\n",
            " \n",
            "y\n",
            "o\n",
            "u\n",
            " \n",
            "d\n",
            "o\n",
            "i\n",
            "n\n"
          ]
        }
      ]
    },
    {
      "cell_type": "code",
      "source": [
        "# question 3\n",
        "temperatures = [15, 18, 20, 17, 16, 19, 21]\n",
        "total_temp = 0\n",
        "\n",
        "for temp in temperatures:\n",
        "  total_temp += temp\n",
        "\n",
        "average_temp = total_temp / len(temperatures)\n",
        "\n",
        "print(f\"The average temperature is {average_temp:.2f} degrees Celsius.\")\n"
      ],
      "metadata": {
        "id": "QfiJcy4-4_jo",
        "colab": {
          "base_uri": "https://localhost:8080/"
        },
        "outputId": "24cbc7fd-262d-4081-9fcc-6181d2c55f39"
      },
      "execution_count": null,
      "outputs": [
        {
          "output_type": "stream",
          "name": "stdout",
          "text": [
            "The average temperature is 18.00 degrees Celsius.\n"
          ]
        }
      ]
    },
    {
      "cell_type": "code",
      "source": [
        "# question 4\n",
        "candies = 1\n",
        "names = [\"Alice\", \"Bob\", \"Charlie\", \"David\", \"Eve\"]\n",
        "\n",
        "for name in names:\n",
        "  print(f\"{name} receives {candies} candies.\")\n",
        "  candies += 1\n"
      ],
      "metadata": {
        "colab": {
          "base_uri": "https://localhost:8080/"
        },
        "id": "qEg3lJ-1PKMH",
        "outputId": "f4ab8c8a-3f29-456f-9f9e-7242be38ea5d"
      },
      "execution_count": null,
      "outputs": [
        {
          "output_type": "stream",
          "name": "stdout",
          "text": [
            "Alice receives 1 candies.\n",
            "Bob receives 2 candies.\n",
            "Charlie receives 3 candies.\n",
            "David receives 4 candies.\n",
            "Eve receives 5 candies.\n"
          ]
        }
      ]
    },
    {
      "cell_type": "code",
      "source": [
        "# question 5\n",
        "book_titles = [\"Pride and Prejudice\", \"To Kill a Mockingbird\", \"The Lord of the Rings\"]\n",
        "\n",
        "for title in book_titles:\n",
        "  print(title.upper())\n"
      ],
      "metadata": {
        "colab": {
          "base_uri": "https://localhost:8080/"
        },
        "id": "CaIKf0mvPTqk",
        "outputId": "6522b5a7-6b97-4129-aaa6-c7e3e5029a3a"
      },
      "execution_count": null,
      "outputs": [
        {
          "output_type": "stream",
          "name": "stdout",
          "text": [
            "PRIDE AND PREJUDICE\n",
            "TO KILL A MOCKINGBIRD\n",
            "THE LORD OF THE RINGS\n"
          ]
        }
      ]
    },
    {
      "cell_type": "code",
      "source": [
        "# question 6\n",
        "warehouse_items = [\"screwdriver\", \"hammer\", \"nails\", \"defective\", \"paint\"]\n",
        "count = 1\n",
        "\n",
        "for item in warehouse_items:\n",
        "  if item != \"defective\":\n",
        "    print(f\"Item {count}: {item}\")\n",
        "  count += 1\n"
      ],
      "metadata": {
        "colab": {
          "base_uri": "https://localhost:8080/"
        },
        "id": "DotGVOpWPZCk",
        "outputId": "5ada5fd7-c824-4f2d-afa7-9ae6fa880cb8"
      },
      "execution_count": null,
      "outputs": [
        {
          "output_type": "stream",
          "name": "stdout",
          "text": [
            "Item 1: screwdriver\n",
            "Item 2: hammer\n",
            "Item 3: nails\n",
            "Item 5: paint\n"
          ]
        }
      ]
    },
    {
      "cell_type": "code",
      "source": [
        "# question 7\n",
        "count = 10\n",
        "\n",
        "while count >= 0:\n",
        "  print(count)\n",
        "  count -= 1\n",
        "\n",
        "print(\"Liftoff!\")\n"
      ],
      "metadata": {
        "colab": {
          "base_uri": "https://localhost:8080/"
        },
        "id": "S-HbGKrQPceo",
        "outputId": "61e018d5-9188-46aa-97c8-ee34dcc89ccb"
      },
      "execution_count": null,
      "outputs": [
        {
          "output_type": "stream",
          "name": "stdout",
          "text": [
            "10\n",
            "9\n",
            "8\n",
            "7\n",
            "6\n",
            "5\n",
            "4\n",
            "3\n",
            "2\n",
            "1\n",
            "0\n",
            "Liftoff!\n"
          ]
        }
      ]
    },
    {
      "cell_type": "code",
      "source": [
        "# question 8\n",
        "sales_figures = [1200, 800, 1500, 950, 1800, 1100]\n",
        "highest_sale = sales_figures[0]\n",
        "\n",
        "for sale in sales_figures:\n",
        "  if sale > highest_sale:\n",
        "    highest_sale = sale\n",
        "\n",
        "print(f\"The highest sale amount is: ${highest_sale}\")\n"
      ],
      "metadata": {
        "colab": {
          "base_uri": "https://localhost:8080/"
        },
        "id": "ZrHBmVBNPnKc",
        "outputId": "35a994e6-9f67-45e7-839e-e6a3dcdafd0f"
      },
      "execution_count": null,
      "outputs": [
        {
          "output_type": "stream",
          "name": "stdout",
          "text": [
            "The highest sale amount is: $1800\n"
          ]
        }
      ]
    },
    {
      "cell_type": "code",
      "source": [
        "# question 9\n",
        "def fibonacci(n):\n",
        "  \"\"\"Calculates the nth Fibonacci number.\"\"\"\n",
        "  if n <= 1:\n",
        "    return n\n",
        "  else:\n",
        "    return fibonacci(n-1) + fibonacci(n-2)\n",
        "\n",
        "offers = []\n",
        "for i in range(10):\n",
        "  offers.append(fibonacci(i))\n",
        "\n",
        "print(\"First 10 Offers based on Fibonacci Sequence:\")\n",
        "for i, offer in enumerate(offers):\n",
        "  print(f\"Offer {i+1}: ${offer}\")\n"
      ],
      "metadata": {
        "colab": {
          "base_uri": "https://localhost:8080/"
        },
        "id": "oBxbcOEpP2Za",
        "outputId": "5c2e2e3b-7e2b-4402-983c-299c41b76264"
      },
      "execution_count": null,
      "outputs": [
        {
          "output_type": "stream",
          "name": "stdout",
          "text": [
            "First 10 Offers based on Fibonacci Sequence:\n",
            "Offer 1: $0\n",
            "Offer 2: $1\n",
            "Offer 3: $1\n",
            "Offer 4: $2\n",
            "Offer 5: $3\n",
            "Offer 6: $5\n",
            "Offer 7: $8\n",
            "Offer 8: $13\n",
            "Offer 9: $21\n",
            "Offer 10: $34\n"
          ]
        }
      ]
    },
    {
      "cell_type": "code",
      "source": [
        "# question 10\n",
        "guest_list = [\"Alice\", \"Bob\", \"Charlie\", \"David\", \"Emily\", \"VIP\", \"Fred\"]\n",
        "\n",
        "for guest in guest_list:\n",
        "  if guest == \"VIP\":\n",
        "    print(f\"Reached VIP. Stopping guest list.\")\n",
        "    break\n",
        "  else:\n",
        "    print(guest)\n"
      ],
      "metadata": {
        "colab": {
          "base_uri": "https://localhost:8080/"
        },
        "id": "01uEU-zlQDzZ",
        "outputId": "1bf0a674-94ff-49d6-94df-cef89d52c17c"
      },
      "execution_count": null,
      "outputs": [
        {
          "output_type": "stream",
          "name": "stdout",
          "text": [
            "Alice\n",
            "Bob\n",
            "Charlie\n",
            "David\n",
            "Emily\n",
            "Reached VIP. Stopping guest list.\n"
          ]
        }
      ]
    },
    {
      "cell_type": "code",
      "source": [
        "# question 11\n",
        "players_string = \"Alice,Bob,Charlie,David\"\n",
        "i = len(players_string) - 1\n",
        "\n",
        "while i >= 0:\n",
        "  if players_string[i] == \",\" or i == 0:\n",
        "    print(players_string[i+1:i:].strip())\n",
        "  i -= 1\n"
      ],
      "metadata": {
        "colab": {
          "base_uri": "https://localhost:8080/"
        },
        "id": "6t-FsxcvQJT9",
        "outputId": "09d10367-bc58-4298-ea83-7472091c9dc9"
      },
      "execution_count": null,
      "outputs": [
        {
          "output_type": "stream",
          "name": "stdout",
          "text": [
            "\n",
            "\n",
            "\n",
            "\n"
          ]
        }
      ]
    },
    {
      "cell_type": "code",
      "source": [
        "# question 12\n",
        "for locker_number in range(1, 51, 2):\n",
        "  print(locker_number)\n"
      ],
      "metadata": {
        "id": "0pm5pbGDRVxY",
        "outputId": "7bfbebd8-810a-4fa1-ad73-ca64a98a1b29",
        "colab": {
          "base_uri": "https://localhost:8080/"
        }
      },
      "execution_count": null,
      "outputs": [
        {
          "output_type": "stream",
          "name": "stdout",
          "text": [
            "1\n",
            "3\n",
            "5\n",
            "7\n",
            "9\n",
            "11\n",
            "13\n",
            "15\n",
            "17\n",
            "19\n",
            "21\n",
            "23\n",
            "25\n",
            "27\n",
            "29\n",
            "31\n",
            "33\n",
            "35\n",
            "37\n",
            "39\n",
            "41\n",
            "43\n",
            "45\n",
            "47\n",
            "49\n"
          ]
        }
      ]
    },
    {
      "cell_type": "code",
      "source": [],
      "metadata": {
        "id": "6U7j0uHKRaLv"
      },
      "execution_count": null,
      "outputs": []
    }
  ]
}